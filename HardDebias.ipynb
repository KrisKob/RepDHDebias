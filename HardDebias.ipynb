{
 "cells": [
  {
   "cell_type": "markdown",
   "metadata": {},
   "source": [
    "# Step 1: Identify gender subspace\n",
    "Inputs: word sets $W$, defining sets $D_1, D_2, ..., D_n \\subset W$ as well as embedding $\\{\\vec{w}\\in\\mathbb{R}^d\\}_{w\\in W}$ and integer parameter $k \\geq 1$.   \n",
    "Let $\\mu_i := \\sum_{w\\in D_i}\\vec{w}/|D_i|$ be the means of the defining sets. Let the bias subspace $B$ be the first $k$ rows of SVD($C$) where $C:=\\sum_{i=1}^n \\sum_{w\\in D_i}(\\vec{w}-\\mu_i)^T(\\vec{w}-\\mu_i)/|D_i|$.\n"
   ]
  },
  {
   "cell_type": "markdown",
   "metadata": {},
   "source": [
    "Following the original implementation of Bolukbasi et al. (2016), we set k=1. As a result the subspace $B$ is simply a gender direction."
   ]
  },
  {
   "cell_type": "markdown",
   "metadata": {},
   "source": [
    "Bolukbasi et al. (2016) normalize all embeddings. However, we found it is unnecessary in our experiments. This is also mentioned in Ethayarajh et al. (2019)"
   ]
  },
  {
   "cell_type": "code",
   "execution_count": 1,
   "metadata": {},
   "outputs": [],
   "source": [
    "definitional_pairs = [[\"woman\", \"man\"], [\"girl\", \"boy\"], [\"she\", \"he\"]]"
   ]
  },
  {
   "cell_type": "code",
   "execution_count": 3,
   "metadata": {},
   "outputs": [],
   "source": [
    "def idtfy_gender_subspace(W, definitional_pairs, embedding, k=1): # do we need W?\n",
    "    C = []\n",
    "    for i, d_pair in enumerate(definitional_pairs):\n",
    "        for i, word in enumerate(d_pair):\n",
    "            mean_i = embedding[word_1] / len(d_pair) # should be 2 (if |D| means number of elements)\n",
    "            C.append((np.transpose(embedding - mean_i)(embedding - mean_i))/len(d_pair))\n",
    "    SVD_C = np.linalg.svd(C)\n",
    "    # take first k rows to obtain B\n",
    "    return B"
   ]
  },
  {
   "cell_type": "markdown",
   "metadata": {},
   "source": [
    "# Step 2a: Hard de-biasing (neutralize and equalize)\n",
    "Hard Debias then neutralizes the word embeddings by transforming each $\\vec{w}$ such that every word $w\\in N$ has zero projection in the gender subspace. For each word $w\\in N$, we re-embed $\\vec{w}$: $$\\vec{w}:=\\vec{w}-\\vec{w}_B$$"
   ]
  },
  {
   "cell_type": "markdown",
   "metadata": {},
   "source": [
    "Additional inputs: words to neutralize $N\\subseteq W$, family of equality sets $\\mathcal{E} = \\{E_1, E_2, ..., E_m\\}$ where each $E_i \\subseteq W$. For each word $w \\in N$, let $\\vec{w}$ be re-embedded to $\\vec{w}:=(\\vec{w}-\\vec{w}_B/||\\vec{w}-\\vec{w}_B||$. For each set $E\\in \\mathcal{E}$, let $\\mu:=\\sum_{w\\in E}w/|E|$ and $v:=\\mu-\\mu_B$. For each $w \\in E$, $\\vec{w}:=v+\\sqrt{1-||v||^2}\\frac{\\vec{w}_B-\\mu_B}{||\\vec{w}_B-\\mu_B||}$. Finally, output the subspace $B$ and the new embedding $\\{\\vec{w}\\in\\mathbb{R}^d\\}_{w\\in W}$."
   ]
  },
  {
   "cell_type": "code",
   "execution_count": 2,
   "metadata": {},
   "outputs": [],
   "source": [
    "equalize_pairs = [[\"monastery\", \"convent\"], [\"spokesman\", \"spokeswoman\"], [\"Catholic_priest\", \"nun\"], [\"Dad\", \"Mom\"]]"
   ]
  },
  {
   "cell_type": "code",
   "execution_count": null,
   "metadata": {},
   "outputs": [],
   "source": [
    "def hard_debias (N, equalize_pairs, embedding, B):\n",
    "    for i, e_pair in enumerate (equalize_pairs):\n",
    "        for word in e_pair:\n",
    "            mean = word/len(e_pair)\n",
    "            simple_average_v = mean - mean_B\n",
    "            w_embedding = simple_average_v + np.sqrt(1-v^2) * ((embedding_B - mean_B)/(embedding_B - mean_B)) #normed, v should also be normed (||v||)\n",
    "    return B, w_embedding"
   ]
  }
 ],
 "metadata": {
  "kernelspec": {
   "display_name": "Python 3",
   "language": "python",
   "name": "python3"
  },
  "language_info": {
   "codemirror_mode": {
    "name": "ipython",
    "version": 3
   },
   "file_extension": ".py",
   "mimetype": "text/x-python",
   "name": "python",
   "nbconvert_exporter": "python",
   "pygments_lexer": "ipython3",
   "version": "3.7.6"
  }
 },
 "nbformat": 4,
 "nbformat_minor": 4
}
