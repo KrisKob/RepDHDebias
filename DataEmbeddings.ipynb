{
 "cells": [
  {
   "cell_type": "code",
   "execution_count": 1,
   "metadata": {},
   "outputs": [],
   "source": [
    "import urllib.request\n",
    "import numpy as np\n",
    "import json\n",
    "from sklearn import metrics as sk_m"
   ]
  },
  {
   "cell_type": "code",
   "execution_count": 2,
   "metadata": {},
   "outputs": [],
   "source": [
    "# URL to retrive pre-trained 300 dimensional gloVe embedding\n",
    "embedding_300_url = \"http://www.cs.virginia.edu/~tw8cb/word_embeddings/vectors.txt\"\n",
    "\n",
    "def read_embedding(url):\n",
    "    \"\"\"Function to read out an embedding\n",
    "    Input: url: url to embedding\n",
    "    \n",
    "    Returns: vocab: list of words in the embedding\n",
    "             word2id: dictionary mapping words to ids\n",
    "             word_vectors: array storing the embeddings,\n",
    "                           row corresponds to word id\"\"\"\n",
    "    # Open url\n",
    "    data = urllib.request.urlopen(url)\n",
    "    vocab = []\n",
    "    word_vectors = []\n",
    "    \n",
    "    # Each line contains one word and its embedding\n",
    "    for line in data:\n",
    "        line = line.decode()\n",
    "        # Split by spaces\n",
    "        split = line.split()\n",
    "        # First element(== the word) is added to vocabulary\n",
    "        vocab.append(split[0])\n",
    "        # All other elements(embedding vectors) are added to vectors\n",
    "        word_vectors.append([float(elem) for elem in split[1:]])\n",
    "    \n",
    "    # Create a dictionary with word-id pairs based on the order\n",
    "    word2id = {w: i for i, w in enumerate(vocab)}\n",
    "    # Vectors are converted into an array\n",
    "    word_vectors = np.array(word_vectors).astype(float)\n",
    "    \n",
    "    return vocab, word2id, word_vectors\n",
    "    \n",
    "embedding_300_vocab, embedding_300_word2id, embedding_300_word_vector = read_embedding(embedding_300_url)"
   ]
  },
  {
   "cell_type": "code",
   "execution_count": 3,
   "metadata": {},
   "outputs": [],
   "source": [
    "def exclude_vocab(vocab, exclude):\n",
    "    \"\"\"Function to exclude specific words from vocabulary\n",
    "    Input: vocab: list of words in the embedding\n",
    "           exclude: list of words to exclude from the vocabulary\n",
    "           \n",
    "    Returns: limited_vocab: vocab without the words in exclude\"\"\"\n",
    "    # Create copies of vocab, word2id and word_vector\n",
    "    limited_vocab = vocab.copy()\n",
    "    # For all words that are in exclude and vocab\n",
    "    for word in exclude:\n",
    "        if word in limited_vocab:\n",
    "            # Remove word from vocab\n",
    "            limited_vocab.remove(word)\n",
    "            \n",
    "    return limited_vocab"
   ]
  },
  {
   "cell_type": "code",
   "execution_count": 4,
   "metadata": {},
   "outputs": [],
   "source": [
    "# URL to female specific words\n",
    "female_words_url = \"https://raw.githubusercontent.com/uvavision/Double-Hard-Debias/master/data/female_word_file.txt\"\n",
    "female_words_data = urllib.request.urlopen(female_words_url)\n",
    "\n",
    "# List of female words\n",
    "female_words = []\n",
    "for line in female_words_data:\n",
    "    line = line.decode()\n",
    "    line = line.split()\n",
    "    female_words.append(line[0])"
   ]
  },
  {
   "cell_type": "code",
   "execution_count": 5,
   "metadata": {},
   "outputs": [],
   "source": [
    "# URL to male specific words\n",
    "male_words_url = \"https://raw.githubusercontent.com/uvavision/Double-Hard-Debias/master/data/male_word_file.txt\"\n",
    "male_words_data = urllib.request.urlopen(male_words_url)\n",
    "\n",
    "# List of male words\n",
    "male_words = []\n",
    "for line in male_words_data:\n",
    "    line = line.decode()\n",
    "    line = line.split()\n",
    "    male_words.append(line[0])"
   ]
  },
  {
   "cell_type": "code",
   "execution_count": 6,
   "metadata": {},
   "outputs": [],
   "source": [
    "# Create List with female - male pairs from female-male specific words\n",
    "female_male_pairs = []\n",
    "for i, female in enumerate(female_words):\n",
    "    female_male_pairs.append([female, male_words[i]])"
   ]
  },
  {
   "cell_type": "code",
   "execution_count": 7,
   "metadata": {},
   "outputs": [],
   "source": [
    "# URLs to the files storing gender specific words\n",
    "gender_specific_url = \"https://raw.githubusercontent.com/uvavision/Double-Hard-Debias/master/data/gender_specific_full.json\"\n",
    "\n",
    "# Empty list to accumulate gender specific words plus additional list after lowercasing\n",
    "gender_specific_original = []\n",
    "gender_specific = []\n",
    "\n",
    "\n",
    "# Read out URL and add further gender specific words\n",
    "with urllib.request.urlopen(gender_specific_url) as f:\n",
    "    gender_specific_original.extend(json.load(f))\n",
    "\n",
    "# Add lower case words to second list\n",
    "for word in gender_specific_original:\n",
    "    gender_specific.append(word.lower())"
   ]
  },
  {
   "cell_type": "code",
   "execution_count": 4,
   "metadata": {},
   "outputs": [],
   "source": [
    "# URL to the file storing definitional pairs\n",
    "definitial_pairs_url = \"https://raw.githubusercontent.com/uvavision/Double-Hard-Debias/master/data/definitional_pairs.json\"\n",
    "\n",
    "# Empty list to store definitional pairs plus additional list after lowercasing\n",
    "definitional_pairs_original = []\n",
    "definitional_pairs = []\n",
    "\n",
    "\n",
    "# Read out url and add pairs in list\n",
    "with urllib.request.urlopen(definitial_pairs_url) as f:\n",
    "    definitional_pairs_original.extend(json.load(f))\n",
    "    \n",
    "# Add lower case pairs to second list\n",
    "for [w1, w2] in definitional_pairs_original:\n",
    "    definitional_pairs.append([w1.lower(), w2.lower()])\n",
    "\n",
    "\n",
    "# Create list of single words instead of pairs  \n",
    "definitional_words = []\n",
    "for pair in definitional_pairs:\n",
    "    for word in pair:\n",
    "        definitional_words.append(word)\n",
    "        "
   ]
  },
  {
   "cell_type": "code",
   "execution_count": 9,
   "metadata": {},
   "outputs": [],
   "source": [
    "# URL to the file storing the equalize pairs\n",
    "equalize_pairs_url = \"https://raw.githubusercontent.com/uvavision/Double-Hard-Debias/master/data/equalize_pairs.json\"\n",
    "\n",
    "# Empty list to store equalize pairs plus additional list after lowercasing\n",
    "equalize_pairs_original = []\n",
    "equalize_pairs = []\n",
    "\n",
    "# Read out URL and add pairs to list\n",
    "with urllib.request.urlopen(equalize_pairs_url) as f:\n",
    "    equalize_pairs_original.extend(json.load(f))\n",
    "    \n",
    "# Add lower case pairs to second list\n",
    "for [w1, w2] in equalize_pairs_original:\n",
    "    equalize_pairs.append([w1.lower(), w2.lower()])\n",
    "    \n",
    "# Create list of single words instead of pairs\n",
    "equalize_words = []\n",
    "for pair in equalize_pairs:\n",
    "    for word in pair:\n",
    "        equalize_words.append(word)"
   ]
  },
  {
   "cell_type": "code",
   "execution_count": 10,
   "metadata": {},
   "outputs": [],
   "source": [
    "# List of all gender specific words included in \n",
    "# female words, male words, gender specific words, equalize words and definitional words\n",
    "exclude_words = list(set(female_words + male_words + gender_specific + definitional_words + equalize_words))"
   ]
  },
  {
   "cell_type": "code",
   "execution_count": 11,
   "metadata": {},
   "outputs": [
    {
     "name": "stdout",
     "output_type": "stream",
     "text": [
      "vocab size:  322636\n",
      "limited vocab size:  321977\n"
     ]
    }
   ],
   "source": [
    "# Remove gender specific words from the embedding to obtain vocabulary of neutral words\n",
    "embedding_300_vocab_neutral = exclude_vocab(embedding_300_vocab, exclude_words)\n",
    "print(\"vocab size: \", len(embedding_300_vocab))\n",
    "print(\"limited vocab size: \", len(embedding_300_vocab_neutral))"
   ]
  },
  {
   "cell_type": "code",
   "execution_count": 86,
   "metadata": {},
   "outputs": [],
   "source": [
    "def idtfy_gender_subspace(W, w2id, definitional_pairs, embedding, k=1):\n",
    "    C = np.ndarray((10, 2, 300))\n",
    "    for i, d_pair in enumerate(definitional_pairs):\n",
    "        for j, word in enumerate(d_pair):\n",
    "            mean_i = embedding[w2id[word]] / len(d_pair) # should be 2\n",
    "            C[i][j] = ((np.transpose(embedding[w2id[word]] - mean_i)*(embedding[w2id[word]] - mean_i))/len(d_pair))\n",
    "    C = C.reshape(10, 300, 2)\n",
    "    \n",
    "    \n",
    "    # is C supposed to be the covariance matrix of the word embeddings?\n",
    "    array = np.ndarray((10,2,300))\n",
    "    #i=0\n",
    "    array_two = np.zeros((10,300,300))\n",
    "    for j, d_pair in enumerate(definitional_pairs):\n",
    "        for i, word in enumerate(d_pair):\n",
    "            # fill array with embeddings\n",
    "            array[j][i] = embedding[w2id[word]]\n",
    "            #i = i+1\n",
    "        # print(array[j][0].shape)\n",
    "        # calculate covariance between embeddings of same definitional pair?\n",
    "        array_two[j]=np.cov(np.transpose(array[j]))\n",
    "        \n",
    "    # print(array_two.shape)\n",
    "    #new_C = np.cov(array)\n",
    "    #print(np.shape(new_C))\n",
    "    _, new_SVD_C, _ = np.linalg.svd(array_two)\n",
    "    print(np.shape(new_SVD_C))\n",
    "    new_B = new_SVD_C[:k]\n",
    "    print(new_B.shape)\n",
    "    \n",
    "    _, SVD_C, _ = np.linalg.svd(C, full_matrices = True)\n",
    "    # print(np.shape(SVD_C))\n",
    "    B = SVD_C[:k]\n",
    "    return new_B"
   ]
  },
  {
   "cell_type": "code",
   "execution_count": 87,
   "metadata": {},
   "outputs": [
    {
     "name": "stdout",
     "output_type": "stream",
     "text": [
      "(10, 300)\n",
      "(1, 300)\n",
      "[[1.22104626e+01 7.99843114e-15 7.15080630e-15 5.68959025e-15\n",
      "  5.62410535e-15 4.76481470e-15 4.21778696e-15 4.14077598e-15\n",
      "  3.83136578e-15 3.52649511e-15 3.23911013e-15 3.08869410e-15\n",
      "  3.01483298e-15 2.97261512e-15 2.68338863e-15 2.52167072e-15\n",
      "  2.50739266e-15 2.31169198e-15 2.09331436e-15 1.97537792e-15\n",
      "  1.57092058e-15 1.45377343e-15 1.33074809e-15 1.22005497e-15\n",
      "  1.22005497e-15 1.22005497e-15 1.22005497e-15 1.22005497e-15\n",
      "  1.22005497e-15 1.22005497e-15 1.22005497e-15 1.22005497e-15\n",
      "  1.22005497e-15 1.22005497e-15 1.22005497e-15 1.22005497e-15\n",
      "  1.22005497e-15 1.22005497e-15 1.22005497e-15 1.22005497e-15\n",
      "  1.22005497e-15 1.22005497e-15 1.22005497e-15 1.22005497e-15\n",
      "  1.22005497e-15 1.22005497e-15 1.22005497e-15 1.22005497e-15\n",
      "  1.22005497e-15 1.22005497e-15 1.22005497e-15 1.22005497e-15\n",
      "  1.22005497e-15 1.22005497e-15 1.22005497e-15 1.22005497e-15\n",
      "  1.22005497e-15 1.22005497e-15 1.22005497e-15 1.22005497e-15\n",
      "  1.22005497e-15 1.22005497e-15 1.22005497e-15 1.22005497e-15\n",
      "  1.22005497e-15 1.22005497e-15 1.22005497e-15 1.22005497e-15\n",
      "  1.22005497e-15 1.22005497e-15 1.22005497e-15 1.22005497e-15\n",
      "  1.22005497e-15 1.22005497e-15 1.22005497e-15 1.22005497e-15\n",
      "  1.22005497e-15 1.22005497e-15 1.22005497e-15 1.22005497e-15\n",
      "  1.22005497e-15 1.22005497e-15 1.22005497e-15 1.22005497e-15\n",
      "  1.22005497e-15 1.22005497e-15 1.22005497e-15 1.22005497e-15\n",
      "  1.22005497e-15 1.22005497e-15 1.22005497e-15 1.22005497e-15\n",
      "  1.22005497e-15 1.22005497e-15 1.22005497e-15 1.22005497e-15\n",
      "  1.22005497e-15 1.22005497e-15 1.22005497e-15 1.22005497e-15\n",
      "  1.22005497e-15 1.22005497e-15 1.22005497e-15 1.22005497e-15\n",
      "  1.22005497e-15 1.22005497e-15 1.22005497e-15 1.22005497e-15\n",
      "  1.22005497e-15 1.22005497e-15 1.22005497e-15 1.22005497e-15\n",
      "  1.22005497e-15 1.22005497e-15 1.22005497e-15 1.22005497e-15\n",
      "  1.22005497e-15 1.22005497e-15 1.22005497e-15 1.22005497e-15\n",
      "  1.22005497e-15 1.22005497e-15 1.22005497e-15 1.22005497e-15\n",
      "  1.22005497e-15 1.22005497e-15 1.22005497e-15 1.22005497e-15\n",
      "  1.22005497e-15 1.22005497e-15 1.22005497e-15 1.22005497e-15\n",
      "  1.22005497e-15 1.22005497e-15 1.22005497e-15 1.22005497e-15\n",
      "  1.22005497e-15 1.22005497e-15 1.22005497e-15 1.22005497e-15\n",
      "  1.22005497e-15 1.22005497e-15 1.22005497e-15 1.22005497e-15\n",
      "  1.22005497e-15 1.22005497e-15 1.22005497e-15 1.22005497e-15\n",
      "  1.22005497e-15 1.22005497e-15 1.22005497e-15 1.22005497e-15\n",
      "  1.22005497e-15 1.22005497e-15 1.22005497e-15 1.22005497e-15\n",
      "  1.22005497e-15 1.22005497e-15 1.22005497e-15 1.22005497e-15\n",
      "  1.22005497e-15 1.22005497e-15 1.22005497e-15 1.22005497e-15\n",
      "  1.22005497e-15 1.22005497e-15 1.22005497e-15 1.22005497e-15\n",
      "  1.22005497e-15 1.22005497e-15 1.22005497e-15 1.22005497e-15\n",
      "  1.22005497e-15 1.22005497e-15 1.22005497e-15 1.22005497e-15\n",
      "  1.22005497e-15 1.22005497e-15 1.22005497e-15 1.22005497e-15\n",
      "  1.22005497e-15 1.22005497e-15 1.22005497e-15 1.22005497e-15\n",
      "  1.22005497e-15 1.22005497e-15 1.22005497e-15 1.22005497e-15\n",
      "  1.22005497e-15 1.22005497e-15 1.22005497e-15 1.22005497e-15\n",
      "  1.22005497e-15 1.22005497e-15 1.22005497e-15 1.22005497e-15\n",
      "  1.22005497e-15 1.22005497e-15 1.22005497e-15 1.22005497e-15\n",
      "  1.22005497e-15 1.22005497e-15 1.22005497e-15 1.22005497e-15\n",
      "  1.22005497e-15 1.22005497e-15 1.22005497e-15 1.22005497e-15\n",
      "  1.22005497e-15 1.22005497e-15 1.22005497e-15 1.22005497e-15\n",
      "  1.22005497e-15 1.22005497e-15 1.22005497e-15 1.22005497e-15\n",
      "  1.22005497e-15 1.22005497e-15 1.22005497e-15 1.22005497e-15\n",
      "  1.22005497e-15 1.22005497e-15 1.22005497e-15 1.22005497e-15\n",
      "  1.22005497e-15 1.22005497e-15 1.22005497e-15 1.22005497e-15\n",
      "  1.22005497e-15 1.22005497e-15 1.22005497e-15 1.22005497e-15\n",
      "  1.22005497e-15 1.22005497e-15 1.22005497e-15 1.22005497e-15\n",
      "  1.22005497e-15 1.22005497e-15 1.22005497e-15 1.22005497e-15\n",
      "  1.22005497e-15 1.22005497e-15 1.22005497e-15 1.22005497e-15\n",
      "  1.22005497e-15 1.22005497e-15 1.22005497e-15 1.22005497e-15\n",
      "  1.22005497e-15 1.22005497e-15 1.22005497e-15 1.22005497e-15\n",
      "  1.22005497e-15 1.22005497e-15 1.22005497e-15 1.22005497e-15\n",
      "  1.22005497e-15 1.22005497e-15 1.22005497e-15 1.22005497e-15\n",
      "  1.22005497e-15 1.22005497e-15 1.22005497e-15 1.22005497e-15\n",
      "  1.22005497e-15 1.22005497e-15 1.22005497e-15 1.22005497e-15\n",
      "  1.22005497e-15 1.22005497e-15 1.22005497e-15 1.22005497e-15\n",
      "  1.22005497e-15 1.22005497e-15 1.22005497e-15 1.22005497e-15\n",
      "  1.22005497e-15 1.22005497e-15 1.22005497e-15 1.22005497e-15\n",
      "  1.22005497e-15 1.22005497e-15 1.22005497e-15 1.22005497e-15\n",
      "  1.22005497e-15 1.22005497e-15 1.22005497e-15 1.22005497e-15\n",
      "  1.22005497e-15 1.22005497e-15 1.22005497e-15 1.09095992e-15\n",
      "  1.00959973e-15 8.55552521e-16 8.05395875e-16 7.58113541e-16\n",
      "  6.17462192e-16 4.03011795e-16 3.57738859e-16 5.68049252e-18]]\n"
     ]
    }
   ],
   "source": [
    "B = idtfy_gender_subspace(embedding_300_vocab, embedding_300_word2id, definitional_pairs, embedding_300_word_vector)\n",
    "print(B)"
   ]
  },
  {
   "cell_type": "code",
   "execution_count": 142,
   "metadata": {},
   "outputs": [],
   "source": [
    "# most biased male and female words\n",
    "def most_biased(embedding, B, k=500):\n",
    "    # small x, else memory issues\n",
    "    x = 50000\n",
    "    all_biased = np.ndarray((x,1))\n",
    "    for i, word in enumerate(embedding):\n",
    "        if i < x:\n",
    "            all_biased[i] = (sk_m.pairwise.cosine_similarity(word.reshape(1,300), B))[0]\n",
    "            # print(sk_m.pairwise.cosine_similarity(word.reshape(1,300), B)[0])\n",
    "    # print(all_biased)\n",
    "    most_biased = np.argmax(all_biased, axis=0)\n",
    "    print(most_biased, all_biased[most_biased])\n",
    "    return most_biased"
   ]
  },
  {
   "cell_type": "code",
   "execution_count": 143,
   "metadata": {},
   "outputs": [
    {
     "name": "stdout",
     "output_type": "stream",
     "text": [
      "[23535] [[0.22665503]]\n",
      "mauro\n"
     ]
    }
   ],
   "source": [
    "index = most_biased(embedding_300_word_vector, B)\n",
    "print(embedding_300_vocab[index[0]])"
   ]
  },
  {
   "cell_type": "code",
   "execution_count": null,
   "metadata": {},
   "outputs": [],
   "source": []
  },
  {
   "cell_type": "code",
   "execution_count": null,
   "metadata": {},
   "outputs": [],
   "source": []
  }
 ],
 "metadata": {
  "kernelspec": {
   "display_name": "Python 3",
   "language": "python",
   "name": "python3"
  },
  "language_info": {
   "codemirror_mode": {
    "name": "ipython",
    "version": 3
   },
   "file_extension": ".py",
   "mimetype": "text/x-python",
   "name": "python",
   "nbconvert_exporter": "python",
   "pygments_lexer": "ipython3",
   "version": "3.7.9"
  }
 },
 "nbformat": 4,
 "nbformat_minor": 4
}
