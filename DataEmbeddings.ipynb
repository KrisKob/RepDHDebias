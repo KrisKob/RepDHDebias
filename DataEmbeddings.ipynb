{
 "cells": [
  {
   "cell_type": "code",
   "execution_count": 1,
   "metadata": {},
   "outputs": [],
   "source": [
    "import urllib.request\n",
    "import numpy as np\n",
    "import json\n",
    "import string\n",
    "from sklearn import metrics as sk_m\n",
    "from sklearn.decomposition import PCA\n",
    "from sklearn.cluster import KMeans\n",
    "import sklearn as sk\n",
    "import matplotlib.pyplot as plt\n",
    "import random as random\n",
    "from scipy.stats import norm\n",
    "import statistics as stat\n",
    "from weat import weat"
   ]
  },
  {
   "cell_type": "markdown",
   "metadata": {},
   "source": [
    "### Load original embedding"
   ]
  },
  {
   "cell_type": "code",
   "execution_count": 2,
   "metadata": {},
   "outputs": [],
   "source": [
    "# URL to retrive pre-trained 300 dimensional gloVe embedding\n",
    "embedding_300_url = \"http://www.cs.virginia.edu/~tw8cb/word_embeddings/vectors.txt\"\n",
    "\n",
    "def read_embedding(url, skip_first = False):\n",
    "    \"\"\"Function to read out an embedding\n",
    "    Input: url: url to embedding\n",
    "    \n",
    "    Returns: vocab: list of words in the embedding\n",
    "             w2id: dictionary mapping words to ids\n",
    "             embedding: array storing the word vectors,\n",
    "                           row corresponds to word id\"\"\"\n",
    "    # Open url\n",
    "    data = urllib.request.urlopen(url)\n",
    "    vocab = []\n",
    "    embedding = []\n",
    "    \n",
    "    # Each line contains one word and its embedding\n",
    "    for i, line in enumerate(data):\n",
    "        if skip_first:\n",
    "            if i == 0:\n",
    "                continue\n",
    "        #if len(line) == 301:\n",
    "        line = line.decode()\n",
    "        # Split by spaces\n",
    "        split = line.split()\n",
    "        # First element(== the word) is added to vocabulary\n",
    "        vocab.append(split[0])\n",
    "        # All other elements(embedding vectors) are added to vectors\n",
    "        embedding.append([float(elem) for elem in split[1:]])\n",
    "    \n",
    "    # Create a dictionary with word-id pairs based on the order\n",
    "    w2id = {w: i for i, w in enumerate(vocab)}\n",
    "    # Vectors are converted into an array\n",
    "    embedding = np.array(embedding).astype(float)\n",
    "    \n",
    "    return vocab, w2id, embedding\n",
    "    \n",
    "vocab_original, w2id_original, embedding_original = read_embedding(embedding_300_url)"
   ]
  },
  {
   "cell_type": "code",
   "execution_count": 3,
   "metadata": {},
   "outputs": [],
   "source": [
    "def hasDigit(word):\n",
    "    \"\"\"Checks if a string contains any digits\"\"\"\n",
    "    return any(char.isdigit() for char in word)\n",
    "\n",
    "def hasSpecialChar(word):\n",
    "    \"\"\"Checks if a string contains special characters(except \"_\")\"\"\"\n",
    "    special_characters = \"!@#$%^&*()-+?=,<>/.\"\n",
    "    return any(char in special_characters for char in word)"
   ]
  },
  {
   "cell_type": "code",
   "execution_count": 30,
   "metadata": {},
   "outputs": [],
   "source": [
    "def restrict_vocab(vocab, w2id, embedding):\n",
    "    \"\"\"Limits the vocab by removing words containing digits or special characters\n",
    "    Input: vocab: list of words in the embedding\n",
    "           w2id: dictionary mapping words to ids\n",
    "           embedding: array storing the word vectors\n",
    "           \n",
    "    Returns: limit_vocab: list of words in vocab that do not include digits or special characters\n",
    "             limit_w2id: dictionary mapping words in limit_vocab to new ids\n",
    "             limit_embedding: array storing the word vectors of the words in limit_vocab only\"\"\"\n",
    "    limit_vocab = []\n",
    "    limit_embedding = []\n",
    "    \n",
    "    for i, word in enumerate(vocab[:75000]): # hoping that this gives us the most common words\n",
    "        # If word includes either a digit or a special character move on to next word\n",
    "        if (hasDigit(word) or hasSpecialChar(word)):\n",
    "            continue\n",
    "        # Else add word to limit_vocab and its embedding to limit_embedding    \n",
    "        limit_vocab.append(word)\n",
    "        limit_embedding.append(embedding[w2id[word]])\n",
    "        \n",
    "    # Convert embedding into an array    \n",
    "    limit_embedding = np.array(limit_embedding).astype(float)\n",
    "    # Create new dictionary containing only the words in limit_vocab and their new ids\n",
    "    limit_w2id = {word: i for i, word in enumerate(limit_vocab)}\n",
    "    \n",
    "    return limit_vocab, limit_w2id, limit_embedding"
   ]
  },
  {
   "cell_type": "code",
   "execution_count": 31,
   "metadata": {},
   "outputs": [
    {
     "name": "stdout",
     "output_type": "stream",
     "text": [
      "Original vocab size:  322636\n",
      "Restricted vocab size:  72306\n"
     ]
    }
   ],
   "source": [
    "vocab, w2id, embedding = restrict_vocab(vocab_original, w2id_original, embedding_original)\n",
    "print(\"Original vocab size: \", len(vocab_original))\n",
    "print(\"Restricted vocab size: \", len(vocab))"
   ]
  },
  {
   "cell_type": "code",
   "execution_count": 32,
   "metadata": {},
   "outputs": [],
   "source": [
    "def exclude_vocab(vocab, exclude):\n",
    "    \"\"\"Function to exclude specific words from vocabulary\n",
    "    Input: vocab: list of words in the embedding\n",
    "           exclude: list of words to exclude from the vocabulary\n",
    "           \n",
    "    Returns: limited_vocab: vocab without the words in exclude\"\"\"\n",
    "    # Create copy of vocab\n",
    "    limited_vocab = vocab.copy()\n",
    "    # For all words that are in exclude and vocab\n",
    "    for word in exclude:\n",
    "        if word in limited_vocab:\n",
    "            # Remove word from vocab\n",
    "            limited_vocab.remove(word)\n",
    "            \n",
    "    return limited_vocab"
   ]
  },
  {
   "cell_type": "code",
   "execution_count": 33,
   "metadata": {},
   "outputs": [],
   "source": [
    "# URL to female specific words as listed by the authors\n",
    "female_words_url = \"https://raw.githubusercontent.com/uvavision/Double-Hard-Debias/master/data/female_word_file.txt\"\n",
    "female_words_data = urllib.request.urlopen(female_words_url)\n",
    "\n",
    "# List of female words\n",
    "female_words = []\n",
    "for line in female_words_data:\n",
    "    line = line.decode()\n",
    "    line = line.split()\n",
    "    female_words.append(line[0])"
   ]
  },
  {
   "cell_type": "code",
   "execution_count": 34,
   "metadata": {},
   "outputs": [],
   "source": [
    "# URL to male specific words as listed by the authors\n",
    "male_words_url = \"https://raw.githubusercontent.com/uvavision/Double-Hard-Debias/master/data/male_word_file.txt\"\n",
    "male_words_data = urllib.request.urlopen(male_words_url)\n",
    "\n",
    "# List of male words\n",
    "male_words = []\n",
    "for line in male_words_data:\n",
    "    line = line.decode()\n",
    "    line = line.split()\n",
    "    male_words.append(line[0])"
   ]
  },
  {
   "cell_type": "code",
   "execution_count": 35,
   "metadata": {},
   "outputs": [],
   "source": [
    "# Create List with female - male pairs from female-male specific words\n",
    "female_male_pairs = []\n",
    "for i, female in enumerate(female_words):\n",
    "    female_male_pairs.append([female, male_words[i]])"
   ]
  },
  {
   "cell_type": "code",
   "execution_count": 36,
   "metadata": {},
   "outputs": [],
   "source": [
    "# URLs to the files storing gender specific words as listed by the authors\n",
    "gender_specific_url = \"https://raw.githubusercontent.com/uvavision/Double-Hard-Debias/master/data/gender_specific_full.json\"\n",
    "\n",
    "# Empty list to accumulate gender specific words plus additional list after lowercasing\n",
    "gender_specific_original = []\n",
    "gender_specific = []\n",
    "\n",
    "\n",
    "# Read out URL and add further gender specific words\n",
    "with urllib.request.urlopen(gender_specific_url) as f:\n",
    "    gender_specific_original.extend(json.load(f))\n",
    "\n",
    "# Add lower case words to second list\n",
    "for word in gender_specific_original:\n",
    "    gender_specific.append(word.lower())"
   ]
  },
  {
   "cell_type": "code",
   "execution_count": 37,
   "metadata": {},
   "outputs": [],
   "source": [
    "# URL to the file storing definitional pairs as listed by the authors\n",
    "definitial_pairs_url = \"https://raw.githubusercontent.com/uvavision/Double-Hard-Debias/master/data/definitional_pairs.json\"\n",
    "\n",
    "# Empty list to store definitional pairs plus additional list after lowercasing\n",
    "definitional_pairs_original = []\n",
    "definitional_pairs = []\n",
    "\n",
    "\n",
    "# Read out url and add pairs in list\n",
    "with urllib.request.urlopen(definitial_pairs_url) as f:\n",
    "    definitional_pairs_original.extend(json.load(f))\n",
    "    \n",
    "# Add lower case pairs to second list\n",
    "for [w1, w2] in definitional_pairs_original:\n",
    "    definitional_pairs.append([w1.lower(), w2.lower()])\n",
    "\n",
    "\n",
    "# Create list of single words instead of pairs  \n",
    "definitional_words = []\n",
    "for pair in definitional_pairs:\n",
    "    for word in pair:\n",
    "        definitional_words.append(word)\n",
    "        "
   ]
  },
  {
   "cell_type": "code",
   "execution_count": 38,
   "metadata": {},
   "outputs": [],
   "source": [
    "# URL to the file storing the equalize pairs as listed by the authors\n",
    "equalize_pairs_url = \"https://raw.githubusercontent.com/uvavision/Double-Hard-Debias/master/data/equalize_pairs.json\"\n",
    "\n",
    "# Empty list to store equalize pairs plus additional list after lowercasing\n",
    "equalize_pairs_original = []\n",
    "equalize_pairs = []\n",
    "\n",
    "# Read out URL and add pairs to list\n",
    "with urllib.request.urlopen(equalize_pairs_url) as f:\n",
    "    equalize_pairs_original.extend(json.load(f))\n",
    "    \n",
    "# Add lower case pairs to second list\n",
    "for [w1, w2] in equalize_pairs_original:\n",
    "    equalize_pairs.append([w1.lower(), w2.lower()])\n",
    "    \n",
    "# Create list of single words instead of pairs\n",
    "equalize_words = []\n",
    "for pair in equalize_pairs:\n",
    "    for word in pair:\n",
    "        equalize_words.append(word)"
   ]
  },
  {
   "cell_type": "code",
   "execution_count": 39,
   "metadata": {},
   "outputs": [],
   "source": [
    "# List of all gender specific words included in \n",
    "# female words, male words, gender specific words, equalize words and definitional words\n",
    "exclude_words = list(set(female_words + male_words + gender_specific + definitional_words + equalize_words))"
   ]
  },
  {
   "cell_type": "code",
   "execution_count": 40,
   "metadata": {},
   "outputs": [],
   "source": [
    "def embed(word, w2id=w2id, embedding=embedding):\n",
    "    return embedding[w2id[word]]"
   ]
  },
  {
   "cell_type": "code",
   "execution_count": 41,
   "metadata": {},
   "outputs": [
    {
     "name": "stdout",
     "output_type": "stream",
     "text": [
      "Vocab size:  72306\n",
      "Neutral vocab size:  71858 (71858, 300) 71858\n"
     ]
    }
   ],
   "source": [
    "# Remove gender specific words from the embedding to obtain vocabulary of neutral words\n",
    "vocab_neutral = exclude_vocab(vocab, exclude_words)\n",
    "# save both neutral embeddings and the indices of the neutral words in original vocab\n",
    "embedding_neutral = np.asarray([embed(word) for word in vocab_neutral])\n",
    "id_neutral = [w2id[neutral] for neutral in vocab_neutral]\n",
    "\n",
    "print(\"Vocab size: \", len(vocab))\n",
    "print(\"Neutral vocab size: \", len(vocab_neutral), embedding_neutral.shape, len(id_neutral))"
   ]
  },
  {
   "cell_type": "markdown",
   "metadata": {},
   "source": [
    "### Load further embeddings"
   ]
  },
  {
   "cell_type": "code",
   "execution_count": 19,
   "metadata": {},
   "outputs": [],
   "source": [
    "embedding_gn_url = \"http://www.cs.virginia.edu/~tw8cb/word_embeddings/vectors300.txt\"\n",
    "vocab_gn_original, w2id_gn_original, embedding_gn_original = read_embedding(embedding_gn_url)\n",
    "vocab_gn, w2id_gn, embedding_gn = restrict_vocab(vocab_gn_original, w2id_gn_original, embedding_gn_original)"
   ]
  },
  {
   "cell_type": "code",
   "execution_count": 20,
   "metadata": {},
   "outputs": [],
   "source": [
    "def debias_gn(wv):\n",
    "    for v in wv:\n",
    "        assert(len(v) == 300)\n",
    "    \n",
    "    wv = wv[:,:-1]\n",
    "\n",
    "    for v in wv:\n",
    "        assert(len(v) == 299)\n",
    "    return wv\n",
    "\n",
    "vocab_gn_a = vocab_gn\n",
    "w2id_gn_a = w2id_gn\n",
    "embedding_gn_a = debias_gn(embedding_gn)"
   ]
  },
  {
   "cell_type": "code",
   "execution_count": 21,
   "metadata": {},
   "outputs": [],
   "source": [
    "embedding_hd_url = \"http://www.cs.virginia.edu/~tw8cb/word_embeddings/vectors_hd.txt\"\n",
    "vocab_hd_original, w2id_hd_original, embedding_hd_original = read_embedding(embedding_hd_url)\n",
    "vocab_hd, w2id_hd, embedding_hd = restrict_vocab(vocab_hd_original, w2id_hd_original, embedding_hd_original)"
   ]
  },
  {
   "cell_type": "code",
   "execution_count": null,
   "metadata": {},
   "outputs": [],
   "source": [
    "embedding_hd_a_url = \"http://www.cs.virginia.edu/~tw8cb/word_embeddings/vectors_hd_a.txt\"\n",
    "vocab_hd_a_original, w2id_hd_a_original, embedding_hd_a_original = read_embedding(embedding_hd_a_url)\n",
    "vocab_hd_a, w2id_hd_a, embedding_hd_a = restrict_vocab(vocab_hd_a_original, w2id_hd_a_original, embedding_hd_a_original)"
   ]
  },
  {
   "cell_type": "code",
   "execution_count": null,
   "metadata": {},
   "outputs": [],
   "source": [
    "embedding_gp_url = \"http://www.cs.virginia.edu/~tw8cb/word_embeddings/gp_glove.txt\"\n",
    "vocab_gp_original, w2id_gp_original, embedding_gp_original = read_embedding(embedding_gp_url, skip_first = True)\n",
    "vocab_gp, w2id_gp, embedding_gp = restrict_vocab(vocab_gp_original, w2id_gp_original, embedding_gp_original)"
   ]
  },
  {
   "cell_type": "code",
   "execution_count": 38,
   "metadata": {},
   "outputs": [
    {
     "name": "stdout",
     "output_type": "stream",
     "text": [
      "Original vocab size:  322636\n",
      "Restricted vocab size:  314952\n"
     ]
    }
   ],
   "source": [
    "embedding_gp_gn_url = \"http://www.cs.virginia.edu/~tw8cb/word_embeddings/gp_gn_glove.txt\"\n",
    "vocab_gp_gn_original, w2id_gp_gn_original, embedding_gp_gn_original = read_embedding(embedding_gp_gn_url, skip_first = True)\n",
    "vocab_gp_gn, w2id_gp_gn, embedding_gp_gn = restrict_vocab(vocab_gp_gn_original, w2id_gp_gn_original, embedding_gp_gn_original)"
   ]
  },
  {
   "cell_type": "markdown",
   "metadata": {},
   "source": [
    "### Gender Subspace"
   ]
  },
  {
   "cell_type": "code",
   "execution_count": 42,
   "metadata": {},
   "outputs": [],
   "source": [
    "def idtfy_gender_subspace(word_sets, w2id, defining_sets, k=1):\n",
    "    \"\"\"\n",
    "    identifies the bias (gender) subspace following Bolukbasi et al. 2016\n",
    "    \n",
    "    takes\n",
    "    word_sets: vocabulary\n",
    "    w2id: a dictionary to translate words contained in the vocabulary into their corresponding IDs\n",
    "    defining_sets: N defining sets (pairs if I=2) consisting of I words that differ mainly on the bias (gender) direction\n",
    "    embedding: the embedding of the vocabulary\n",
    "    k: an integer parameters that defines how many rows of SVD(C) constitute the bias (gender) subspace B, bias (gender) direction if k=1\n",
    "    \n",
    "    returns\n",
    "    bias_subspace: linear bias (gender) subspace (direction) that is assumed to capture most of the gender bias (denoted as B in Bolukbasi et al. 2016)\n",
    "    \"\"\"\n",
    "    \n",
    "    C = []\n",
    "    for female_word, male_word in defining_sets:\n",
    "        mean = (embed(female_word) + embed(male_word)) /2\n",
    "        C.append(embed(female_word) - mean)\n",
    "        C.append(embed(male_word) - mean)\n",
    "    C = np.array(C)\n",
    "    \n",
    "    # applying PCA is the same as SVD when interpreting C as covariance matrix (Vargas & Cotterell 2020)\n",
    "    pca = PCA(n_components = 10)\n",
    "    pca.fit(C)\n",
    "\n",
    "    # take the first k pcas (first for gender direction)\n",
    "    B = []\n",
    "    for i in range(k):\n",
    "        B.append(pca.components_[i])\n",
    "    B = np.array(B).flatten()\n",
    "\n",
    "    \n",
    "    #print(\"new_B\")\n",
    "    #array = np.ndarray((10,2,300))\n",
    "    #i=0\n",
    "    #array_two = np.zeros((10,300,300))\n",
    "    #for j, d_pair in enumerate(definitional_pairs):\n",
    "    #    for i, word in enumerate(d_pair):\n",
    "    #        # fill array with embeddings\n",
    "    #        array[j][i] = embedding[w2id[word]]\n",
    "            #i = i+1\n",
    "        # print(array[j][0].shape)\n",
    "        # calculate covariance between embeddings of same definitional pair?\n",
    "    #    array_two[j]=np.cov(np.transpose(array[j]))\n",
    "        \n",
    "    \n",
    "    return B"
   ]
  },
  {
   "cell_type": "code",
   "execution_count": 66,
   "metadata": {},
   "outputs": [],
   "source": [
    "gender_subspace = idtfy_gender_subspace(vocab, w2id, definitional_pairs)"
   ]
  },
  {
   "cell_type": "markdown",
   "metadata": {},
   "source": [
    "### most biased 500 words"
   ]
  },
  {
   "cell_type": "code",
   "execution_count": 44,
   "metadata": {},
   "outputs": [],
   "source": [
    "# most biased male and female words\n",
    "def most_biased(embedding, B, k=500):\n",
    "    # small x, else memory issues\n",
    "    #x = 50000\n",
    "    all_biased = np.ndarray((len(embedding),1))\n",
    "    for i, word in enumerate(embedding):\n",
    "        #if i < x:\n",
    "        all_biased[i] = (sk_m.pairwise.cosine_similarity(word.reshape(1, 300), B.reshape(1, 300)))[0]\n",
    "            # print(sk_m.pairwise.cosine_similarity(word.reshape(1,300), B)[0])\n",
    "    #print(all_biased)\n",
    "    most_biased_f = []\n",
    "    most_biased_m = []\n",
    "    for word in range(k):\n",
    "        # female words\n",
    "        fb_index = np.argmin(all_biased)\n",
    "        most_biased_f.append(fb_index)\n",
    "        all_biased[fb_index] = 0\n",
    "        # male words\n",
    "        mb_index = np.argmax(all_biased)\n",
    "        most_biased_m.append(mb_index)\n",
    "        all_biased[mb_index] = 0\n",
    "    #print(most_biased_f, most_biased_m)\n",
    "    return most_biased_f, most_biased_m"
   ]
  },
  {
   "cell_type": "code",
   "execution_count": 72,
   "metadata": {},
   "outputs": [],
   "source": [
    "index_f, index_m = most_biased(embedding, gender_subspace)"
   ]
  },
  {
   "cell_type": "code",
   "execution_count": 74,
   "metadata": {},
   "outputs": [
    {
     "name": "stdout",
     "output_type": "stream",
     "text": [
      "female ['actress', 'pregnant', 'louise', 'therese', 'voluptuous', 'abbess', 'ivanovna', 'sister', 'chairwoman', 'alumna', 'princess', 'ballerina', 'foundress', 'maid', 'headmistress', 'pregnancy', 'englishwoman', 'josephine', 'olga', 'spinster', 'businesswoman', 'socialite', 'woman', 'ivanova', 'heroine', 'councilwoman', 'petrovna', 'congresswoman', 'hippolyta', 'matron', 'emmeline', 'prioress', 'seductive', 'uterus', 'feminist', 'actresses', 'feisty', 'princesses', 'mary', 'herself', 'headscarf', 'vissi', 'suffragette', 'suffragist', 'louisa', 'ellen', 'countess', 'waitress', 'emily', 'goddess', 'girl', 'aunt', 'menstruation', 'sisters', 'alena', 'cecile', 'governess', 'agnes', 'laura', 'duchess', 'filipina', 'archduchess', 'kuznetsova', 'daughters', 'comtesse', 'svetlana', 'menstrual', 'assunta', 'noblewoman', 'vivacious', 'katherine', 'mother', 'grandmother', 'elsa', 'nun', 'mauresmo', 'handbag', 'rebecca', 'prostitute', 'marchioness', 'sophie', 'valentina', 'irene', 'girlfriend', 'niece', 'glamorous', 'devi', 'barmaid', 'francisca', 'manuela', 'millicent', 'nina', 'housewife', 'henriette', 'sultry', 'clotilde', 'hilda', 'doreen', 'virgen', 'doña', 'inna', 'helene', 'thérèse', 'edith', 'baroness', 'schoolgirl', 'sophia', 'alexandrovna', 'cecilie', 'courtesan', 'tatiana', 'marcela', 'charlotta', 'karolina', 'esther', 'betty', 'née', 'phoebe', 'lydia', 'miscarriage', 'emma', 'margaret', 'sheila', 'anna', 'seamstress', 'bridesmaids', 'helen', 'priestesses', 'godmother', 'patricia', 'lillian', 'breasts', 'supermodel', 'elisabeth', 'irina', 'bubbly', 'womb', 'susan', 'christina', 'elizabeth', 'daniela', 'eliza', 'latina', 'yelena', 'needlework', 'amalia', 'khanum', 'zvonareva', 'frau', 'josefina', 'mademoiselle', 'tomboy', 'her', 'kathleen', 'lady', 'margareta', 'fallopian', 'housekeeper', 'sorceress', 'diva', 'miss', 'tsarina', 'consuelo', 'fatima', 'naomi', 'motherhood', 'jane', 'wollstonecraft', 'teresa', 'genevieve', 'alejandra', 'ann', 'caroline', 'lavinia', 'antonia', 'matriarch', 'bernadette', 'natalya', 'amelia', 'wilhelmina', 'lucy', 'constance', 'nurse', 'rachel', 'midwife', 'viscountess', 'fatma', 'antoinette', 'magdalene', 'katie', 'alicia', 'eunice', 'élisabeth', 'cora', 'celeste', 'ekaterina', 'klara', 'eugenia', 'widowed', 'claudia', 'mildred', 'sofie', 'ingeborg', 'christine', 'mathilda', 'khatun', 'alexia', 'martha', 'stepdaughter', 'blige', 'gabriela', 'coloratura', 'annabelle', 'melanie', 'ursuline', 'zofia', 'diana', 'showgirl', 'elena', 'juanita', 'rhoda', 'becky', 'eileen', 'ursula', 'marie', 'angelique', 'cecelia', 'karin', 'patroness', 'madeleine', 'granddaughter', 'liliana', 'infanta', 'natalia', 'cervix', 'elina', 'leona', 'hedvig', 'adèle', 'dagmar', 'eva', 'fetus', 'franziska', 'rosalie', 'gertrude', 'lizzie', 'endometriosis', 'lioness', 'albertine', 'mlle', 'steinem', 'henrietta', 'bessie', 'nadezhda', 'postpartum', 'chlamydia', 'anne', 'mainmast', 'objectification', 'selina', 'women', 'virginity', 'bombshell', 'maría', 'amalie', 'varvara', 'luise', 'frederica', 'katharina', 'tatyana', 'vulva', 'petrova', 'priestess', 'dressmaker', 'leticia', 'paulina', 'miriam', 'tamara', 'alina', 'gowri', 'stewardess', 'irena', 'hildegard', 'angelica', 'magdalena', 'theresa', 'dorothea', 'julia', 'johanna', 'luisa', 'childbirth', 'pavlovna', 'femininity', 'hostess', 'blonde', 'nefertiti', 'undergarments', 'minerva', 'erika', 'begum', 'scantily', 'sabrina', 'bridesmaid', 'ida', 'mathilde', 'cheerleader', 'grandmothers', 'blouse', 'galina', 'sultana', 'lina', 'funnels', 'micaela', 'lesbian', 'oriana', 'nancy', 'sarah', 'amélie', 'aleksandra', 'maud', 'megan', 'elise', 'amy', 'monika', 'alluring', 'jenny', 'lilian', 'josepha', 'gwendoline', 'margarethe', 'radwańska', 'carlotta', 'tanya', 'jeanne', 'divorcee', 'marianne', 'sofía', 'ana', 'leah', 'hecate', 'contralto', 'beautiful', 'elaine', 'georgina', 'ambika', 'beatrice', 'harriet', 'emilie', 'earrings', 'amanda', 'margaretha', 'ovaries', 'pankhurst', 'maharani', 'she', 'rani', 'goddesses', 'gabriella', 'cheryl', 'highsmith', 'arabella', 'nuns', 'suffragists', 'katharine', 'policewoman', 'lorna', 'motherly', 'pavlova', 'kumari', 'juana', 'maryam', 'thelma', 'lsts', 'astrid', 'childbearing', 'quilting', 'edna', 'agia', 'georgiana', 'ilse', 'huntress', 'lena', 'isabel', 'cécile', 'spokeswoman', 'bint', 'queen', 'theotokos', 'rms', 'hortense', 'mcaleese', 'sharapova', 'parvathi', 'jessica', 'winifred', 'unwed', 'maternity', 'moorings', 'anita', 'dowager', 'womanhood', 'amina', 'flirtatious', 'charlotte', 'ethel', 'queenie', 'tania', 'bardot', 'feodorovna', 'belediyespor', 'lorena', 'lilli', 'jennifer', 'isabelle', 'jutta', 'hitomi', 'sorority', 'ada', 'pregnancies', 'secondly', 'heather', 'ywca', 'mothers', 'masha', 'poppins', 'madame', 'prettiest', 'vagina', 'necklace', 'ryoko', 'susanne', 'leyla', 'beatriz', 'jacqueline', 'yvonne', 'viktoria', 'asma', 'zelena', 'aimée', 'katerina', 'ramona', 'frances', 'freeboard', 'odette', 'beaded', 'matilde', 'nettie', 'nathalie', 'synchrony', 'topless', 'glamour', 'hadassah', 'nourishing', 'cynthia', 'bethany', 'eleonora', 'yulia', 'augusta', 'regnant', 'kom', 'michelle', 'marthe', 'sewed', 'isobel', 'lucretia', 'immaculata', 'maria', 'caterina', 'delphine', 'betsy', 'stepmother', 'joanne', 'mahalakshmi', 'hélène', 'angélique', 'cecilia', 'signe', 'sharda', 'samantha', 'janie', 'silvana', 'femina', 'homemaker', 'miscarried', 'aline', 'girls', 'suffragettes', 'eleanor', 'curvy', 'rita', 'marguerite', 'wilhelmine', 'gisela', 'eloise', 'beatrix', 'gowns', 'mme', 'valerie', 'bianca', 'lesbianism']\n",
      "male ['john', 'himself', 'his', 'brother', 'led', 'son', 'colonel', 'successor', 'nephew', 'footballing', 'sir', 'uncle', 'drona', 'general', 'brothers', 'gofraid', 'hongwu', 'elway', 'he', 'tackle', 'linemen', 'nhl', 'deere', 'journeyman', 'governorship', 'brigadier', 'liquidator', 'proposers', 'apprenticed', 'father', 'mcduff', 'hooker', 'punter', 'marshal', 'captaincy', 'toland', 'daud', 'generals', 'man', 'mayall', 'succeeded', 'henry', 'pallium', 'balliol', 'julius', 'leaguer', 'imad', 'william', 'appointed', 'godfrey', 'captain', 'wingman', 'successors', 'trombonist', 'predecessor', 'hecker', 'mago', 'mahdi', 'dibiase', 'fullback', 'domnall', 'papacy', 'inventor', 'engineer', 'military', 'defensive', 'hamilcar', 'linebacker', 'grandson', 'mcculloch', 'pontificate', 'micheal', 'dawkins', 'legate', 'james', 'mechanic', 'vojislav', 'invented', 'ernest', 'surveyor', 'iii', 'muhammed', 'commander', 'czw', 'cardinal', 'irvin', 'utd', 'shankly', 'receiver', 'sulayman', 'bulls', 'command', 'manasseh', 'ibn', 'toshack', 'systema', 'xfl', 'sayyid', 'dso', 'greats', 'under', 'plow', 'sax', 'robert', 'commentating', 'manager', 'explorer', 'decepticon', 'archbishop', 'viscountcy', 'grandfather', 'quarterback', 'klitschko', 'charles', 'commanded', 'sefer', 'pitchers', 'players', 'voivode', 'juraj', 'popper', 'uppingham', 'antiquary', 'nfl', 'george', 'commentary', 'dykstra', 'commanders', 'tt', 'haydn', 'usmc', 'andré', 'cricketing', 'joseph', 'nemechek', 'hasidim', 'luthier', 'milton', 'racking', 'acumen', 'hijo', 'shocker', 'óscar', 'johann', 'associates', 'striker', 'shogun', 'jr', 'donald', 'setup', 'proto', 'ordnance', 'hannibal', 'englishman', 'xxii', 'abd', 'ernie', 'reliever', 'drafted', 'suspensions', 'playfair', 'praetorian', 'richard', 'contractor', 'episcopacy', 'graziani', 'snr', 'brecker', 'topographical', 'thomas', 'david', 'ellerbe', 'enforcers', 'starting', 'samuel', 'dewey', 'vasco', 'pacification', 'chairman', 'maestro', 'veteran', 'wayne', 'trombone', 'fought', 'bsk', 'chairmanship', 'king', 'grimlock', 'necro', 'nephi', 'enforcer', 'shapur', 'amlaíb', 'mercenaries', 'dalton', 'magister', 'adl', 'boyhood', 'scotus', 'philip', 'scoring', 'leader', 'hunyadi', 'halfback', 'shortstop', 'megatron', 'alexander', 'corps', 'ioan', 'mustapha', 'messrs', 'mullan', 'batchelor', 'army', 'naturae', 'drummer', 'johannes', 'relativity', 'paec', 'abbot', 'khwaja', 'kamel', 'gough', 'hector', 'tex', 'franjo', 'famer', 'irl', 'edward', 'priscus', 'perdiccas', 'jovan', 'strongman', 'corinthians', 'fealty', 'antipope', 'linebackers', 'ziyad', 'stonemason', 'preached', 'muhammad', 'sergeant', 'predecessors', 'yakubu', 'sidemen', 'positional', 'gary', 'apprenticeship', 'gottfried', 'galvatron', 'dooley', 'rebelled', 'bradman', 'electronic', 'aerospace', 'congressman', 'builder', 'stephen', 'guiscard', 'hardline', 'ioannis', 'outfielders', 'rule', 'johnny', 'burrito', 'chief', 'frusciante', 'heatley', 'foundry', 'albert', 'hoare', 'defensively', 'reverend', 'khl', 'midfield', 'dfc', 'mr', 'zahir', 'firm', 'corporal', 'returner', 'jonson', 'eumenes', 'ineffectiveness', 'bruce', 'ironworks', 'hyrcanus', 'architect', 'mechanics', 'saladin', 'frederick', 'pope', 'ashot', 'expeditions', 'stephenson', 'backline', 'drums', 'gaspar', 'attila', 'dave', 'lieutenant', 'blacksmith', 'tsang', 'augustus', 'mlg', 'reginald', 'treatise', 'gell', 'stuntman', 'paynter', 'radoslav', 'dionysius', 'abbas', 'studd', 'sons', 'mainz', 'militia', 'oberst', 'papal', 'tyndall', 'davout', 'signings', 'nikola', 'wallace', 'agricola', 'abdallah', 'hap', 'galbraith', 'sabres', 'kas', 'reorganizing', 'caliphate', 'carpentry', 'trumpet', 'olivares', 'businessman', 'cb', 'brian', 'beal', 'steve', 'khurasan', 'nll', 'magruder', 'muscovy', 'qasim', 'soult', 'mike', 'bandmaster', 'nexus', 'plato', 'elroy', 'kircher', 'flavius', 'halevi', 'antiquarian', 'mathias', 'xizong', 'forefather', 'monro', 'major', 'yazid', 'doobie', 'joe', 'backfield', 'nba', 'expedition', 'gregg', 'isner', 'tim', 'leadership', 'carl', 'tenure', 'reputation', 'bass', 'fadl', 'partnership', 'iv', 'unix', 'saxophonist', 'heinze', 'denzil', 'marmaduke', 'jukes', 'capo', 'pershing', 'quintus', 'patriarch', 'resigned', 'ritter', 'benjamin', 'antigonus', 'brindley', 'ewald', 'decius', 'byzantines', 'menahem', 'paul', 'flaccus', 'ken', 'villano', 'hugh', 'martyn', 'dempsey', 'jürgen', 'catcher', 'imperium', 'jeremiah', 'heenan', 'harold', 'franchises', 'maimonides', 'horsemen', 'bahadur', 'almagro', 'phokas', 'cronies', 'him', 'bud', 'virgil', 'capron', 'legates', 'redman', 'clement', 'aldo', 'councilman', 'joannes', 'bull', 'made', 'karl', 'adjutant', 'trumpeters', 'redskins', 'ahmad', 'foreman', 'appointment', 'mlb', 'harmonica', 'forwards', 'aforesaid', 'sheriff', 'donnchad', 'governor', 'cooder', 'bartram', 'fergal', 'pipe', 'printer', 'herbert', 'lefebvre', 'contractors', 'sandow', 'yards', 'agro', 'laboured', 'colossal', 'cowboys', 'lefty', 'punting', 'cena', 'ludwig', 'kelman', 'johnson', 'cristiano', 'heavyweight', 'bench', 'vader', 'méliès', 'percival', 'socrates', 'raekwon', 'adriaen', 'horace', 'hirst', 'bassist', 'chiefs', 'safran', 'gm', 'rhino', 'edwin', 'microscope', 'peter', 'burgoyne', 'místico', 'burly', 'kirby', 'armagh', 'goalie', 'sauron', 'óg', 'ruckus', 'signing', 'xi', 'yaqub', 'sahl', 'gar', 'commentaries', 'guy', 'proconsul', 'racing', 'lawmen']\n"
     ]
    }
   ],
   "source": [
    "female_most_biased = [vocab[i] for i in index_f]\n",
    "print(\"female\", female_most_biased) #switched again???\n",
    "male_most_biased = [vocab[i] for i in index_m]\n",
    "print(\"male\", male_most_biased)"
   ]
  },
  {
   "cell_type": "markdown",
   "metadata": {},
   "source": [
    "### Double Hard Debias"
   ]
  },
  {
   "cell_type": "markdown",
   "metadata": {},
   "source": [
    "The vector projection of a vector a on (or onto) a nonzero vector b, (also known as the vector component or vector resolution of a in the direction of b), is the orthogonal projection of a onto a straight line parallel to b. It is a vector parallel to b, defined as:\n",
    "\n",
    "${\\displaystyle \\mathbf a_{1}} =  a_{1} {\\mathbf {\\hat {b}} \\,} $\n",
    "\n",
    "where $a_{1}$ is a scalar, called the scalar projection of a onto b, and ${\\mathbf {\\hat {b}} \\,}$ is the unit vector in the direction of b.\n",
    "\n",
    "In turn, the scalar projection is defined as:[2]\n",
    "\n",
    "$    a_{1} =  a ⋅ {\\mathbf {\\hat {b}} \\,}= a ⋅ \\frac{b}{‖ b ‖} $\n",
    "\n",
    "where the operator ⋅ denotes a dot product, ‖b‖ is the length of b.\n",
    "\n",
    "The **vector component** or vector resolute of a perpendicular to b, sometimes also called the **vector rejection of a from b** is the orthogonal projection of a onto the plane (or, in general, hyperplane) orthogonal to b. Both the projection $a_{1}$ and rejection $a_{2}$ of a vector a are vectors, and their sum is equal to a,[1] which implies that the rejection is given by: \n",
    "\n",
    "$a_{2} = a − a_{1}$ "
   ]
  },
  {
   "cell_type": "code",
   "execution_count": 75,
   "metadata": {},
   "outputs": [],
   "source": [
    "def double_hard_debias(embedding, embedding_neutral, id_neutral, index_m, index_f):\n",
    "    \"\"\"\n",
    "    Double Hard Debias as proposed by Wang et. al.:\n",
    "    \n",
    "    takes\n",
    "    embedding: all embeddings\n",
    "    embedding_neutral: subset of embeddings that the bias should be removed from\n",
    "    index_m: indices of most biased male words \n",
    "    index_f: indices of most biased female words \n",
    "    \n",
    "    returns\n",
    "    double_debias: full set of double-debiased embeddings\n",
    "    \"\"\"\n",
    "    \n",
    "    # create word lists of most biased male and female words\n",
    "    males = np.asarray([embedding[i] for i in index_m])\n",
    "    females = np.asarray([embedding[i] for i in index_f])    \n",
    "    \n",
    "    # decentralize all of the embeddings and store seperately\n",
    "    words_decen = np.zeros((len(embedding),300), dtype='float32') # chose a smaller data type due to memory error\n",
    "    words_neutral_decen = np.zeros((len(embedding_neutral),300), dtype='float32')\n",
    "    # first calculate mean over full vocab\n",
    "    mu = ((len(embedding)**(-1)) * np.sum(embedding, axis=0)).reshape(1,300)\n",
    "    # then subtract mean from each word embedding\n",
    "    for index, emb in enumerate(embedding):\n",
    "        words_decen[index] = emb - mu\n",
    "        \n",
    "    for index, emb in enumerate(embedding_neutral):\n",
    "        words_neutral_decen[index] = emb - mu\n",
    "    \n",
    "    #print(\"decentralized:\",words_decen.shape)\n",
    "    #print(\"origin:\",words)\n",
    "        \n",
    "    # discover the frequency direction    \n",
    "    # for all decentralized embeddings: compute PCA\n",
    "    #print(\"Principal Components:\",princ_comp)\n",
    "    pca_freq = PCA().fit(words_decen)\n",
    "    # print(pca.components_)\n",
    "    \n",
    "    evaluations = []\n",
    "\n",
    "    # in implementation of paper only consider 20 first PCs\n",
    "    for i, pc in enumerate(pca_freq.components_):\n",
    "        if i < 20:\n",
    "            male_proj = np.zeros((len(males),300))\n",
    "            male_debias = np.zeros((len(males),300))\n",
    "            female_proj = np.zeros((len(females),300))\n",
    "            female_debias = np.zeros((len(females),300))\n",
    "    \n",
    "        \n",
    "            #pc= pc.reshape(1,300)\n",
    "        \n",
    "            # remove PC direction and gender direction from all embeddings\n",
    "            for index, male in enumerate(males):\n",
    "                \n",
    "                # remove direction of current PC\n",
    "                male_proj[index] = w_orth(male, pc)\n",
    "                # remove gender direction: hard debias\n",
    "                male_debias[index] = w_orth(male_proj[index], gender_subspace)\n",
    "            \n",
    "            # repeat for female-biased words\n",
    "            for index, female in enumerate(females):\n",
    "            \n",
    "                female_proj[index] = w_orth(female, pc)\n",
    "                female_debias[index] = w_orth(female_proj[index], gender_subspace)\n",
    "    \n",
    "            # apply Neighbourhood Metric\n",
    "            # compute gender alignment accuracy for each PC\n",
    "            evaluations.append(align_acc(male_debias, female_debias))\n",
    "            \n",
    "    print(\"eval:\",evaluations)\n",
    "    \n",
    "    # evaluate which PC-rejection leads to most random cluster = evaluation smallest (closest to 0.5) \n",
    "    # in original paper corresponded to second PC    \n",
    "    print(np.argmin(evaluations))\n",
    "    best_pc = pca_freq.components_[np.argmin(evaluations)]\n",
    "\n",
    "    first_debias = np.zeros((embedding.shape))\n",
    "    first_neutral_debias = []\n",
    "    # remove best PC-direction from all neutral, decentralized words\n",
    "    for index,word in enumerate(words_decen):\n",
    "        \n",
    "        if index in id_neutral:\n",
    "            first_debias[index] = w_orth(word, best_pc)\n",
    "            first_neutral_debias.append(w_orth(word, best_pc))\n",
    "        else:\n",
    "            first_debias[index] = unit_vec(word)\n",
    "           \n",
    "    first_neutral_debias = np.asarray(first_neutral_debias)\n",
    "    # print(first_neutral_debias.shape, first_neutral_debias.shape == embedding_neutral.shape)\n",
    "    #double_debias = np.zeros((words.shape))\n",
    "    #for index,word in enumerate(first_debias):\n",
    "    # double_debias[index] = hard_debias(word)\n",
    "    \n",
    "    # apply HardDebias to all neutral, once debiased, words\n",
    "    double_neutral_debias = hard_debias_2(first_neutral_debias)\n",
    "    \n",
    "    double_debias = first_debias.copy()\n",
    "    \n",
    "    for index, word in enumerate(double_neutral_debias):\n",
    "        double_debias[id_neutral[index]] = word\n",
    "\n",
    "    return double_debias\n"
   ]
  },
  {
   "cell_type": "code",
   "execution_count": 76,
   "metadata": {},
   "outputs": [],
   "source": [
    "def unit_vec(vector):\n",
    "    \"\"\"calculates unit vector of passed vector\"\"\"\n",
    "    \n",
    "    unit = np.linalg.norm(vector)\n",
    "    if unit != 0 and np.isnan(unit) == False :\n",
    "        return vector/unit\n",
    "    return vector   "
   ]
  },
  {
   "cell_type": "code",
   "execution_count": 77,
   "metadata": {},
   "outputs": [],
   "source": [
    "#Gender alignment accuracy/ Neighborhood Metric:\n",
    "def align_acc(males, females, k=2):\n",
    "    \"\"\"bias measurement using KMeans Clustering\n",
    "    \n",
    "    takes\n",
    "    males: male words' embeddings\n",
    "    females: female words'embeddings\n",
    "    k: number of clusters to create\n",
    "    ground truth labels:\n",
    "    0 = male,\n",
    "    1 = female\n",
    "    \n",
    "    returns\n",
    "    alignment: alignment accuracy after clustering the embeddings according to gender\n",
    "    \"\"\"\n",
    "    # print(males.shape, females.shape)\n",
    "    array_m_f = np.concatenate((males,females))\n",
    "    #print(array_m_f)\n",
    "    \n",
    "    #need: k (=1000) most biased female and male word's embedding (cosine similarity embedding & gender direction),\n",
    "    # perform KMeans on embeddings with k=2\n",
    "    kmeans = KMeans(n_clusters=k).fit(array_m_f)\n",
    "    split = males.shape[0]\n",
    "    \n",
    "    # print(kmeans.labels_)\n",
    "    # print(split)\n",
    "    correct = 0\n",
    "    #print(kmeans.labels_)\n",
    "   \n",
    "    # compute alignment score: cluster assignment vs ground truth gender label\n",
    "    for i in range(array_m_f.shape[0]):\n",
    "        # correct clustering if word was assigned its ground truth label\n",
    "        if i < split and kmeans.labels_[i] == 0:\n",
    "            correct+= 1\n",
    "        elif i >= split and kmeans.labels_[i] == 1:\n",
    "            correct += 1\n",
    "    \n",
    "    # alignment score = max(a, 1-a)\n",
    "    alignment = 1/(2*array_m_f.shape[0]) * correct\n",
    "    alignment = np.maximum(alignment, 1-alignment)\n",
    "    \n",
    "    return alignment "
   ]
  },
  {
   "cell_type": "markdown",
   "metadata": {},
   "source": [
    "Additional inputs: words to neutralize $N\\subseteq W$, family of equality sets $\\mathcal{E} = \\{E_1, E_2, ..., E_m\\}$ where each $E_i \\subseteq W$. For each word $w \\in N$, let $\\vec{w}$ be re-embedded to $\\vec{w}:=(\\vec{w}-\\vec{w}_B/||\\vec{w}-\\vec{w}_B||$. For each set $E\\in \\mathcal{E}$, let $\\mu:=\\sum_{w\\in E}w/|E|$ and $v:=\\mu-\\mu_B$. For each $w \\in E$, $\\vec{w}:=v+\\sqrt{1-||v||^2}\\frac{\\vec{w}_B-\\mu_B}{||\\vec{w}_B-\\mu_B||}$. Finally, output the subspace $B$ and the new embedding $\\{\\vec{w}\\in\\mathbb{R}^d\\}_{w\\in W}$."
   ]
  },
  {
   "cell_type": "code",
   "execution_count": 78,
   "metadata": {},
   "outputs": [],
   "source": [
    "def hard_debias (word_emb, equality_sets=equalize_pairs, B=gender_subspace):\n",
    "    \"\"\"performs hard debias on a word embedding to neutralize it,\n",
    "    \n",
    "    takes \n",
    "    word_emb: word embedding of the word to be neutralized,\n",
    "    equalize_pairs: equality pairs, each neutral word should be equidistant to all words in each equality set\n",
    "    B: the bias subspace\n",
    "    \n",
    "    returns\n",
    "    B: the bias subspace\n",
    "    new_word_emb: the new embedding for word_emb\n",
    "    \"\"\"\n",
    "    \n",
    "    # if word_emb is a single embedding:\n",
    "        # w_orth(word_emb)\n",
    "        \n",
    "    # if word_emb is the embeddings of all words to be neutralized:\n",
    "    \n",
    "    new_word_emb = np.zeros((word_emb.shape))\n",
    "    for i, embedding in enumerate(word_emb):\n",
    "        new_word_emb[i] = w_orth(embedding, B)\n",
    "        \n",
    "    for equal_set in equality_sets:\n",
    "        if equal_set[0] in w2id and equal_set[1] in w2id:\n",
    "            mean = (embed(equal_set[0]) + embed(equal_set[1])) / 2\n",
    "            mean_biased = mean - w_orth(mean, B)\n",
    "            v = mean - mean_biased # what is the biased mean?\n",
    "            for word in equal_set:\n",
    "                # print(word)\n",
    "                word_biased = embed(word) - w_orth(embed(word), B)\n",
    "                # new_embed = v + np.sqrt(1 - (np.linalg.norm(v)) ** 2) * ((word_biased - mean_biased) / unit_vec(word_biased - mean_biased))\n",
    "                new_embed = v * ((word_biased - mean_biased) / unit_vec(word_biased - mean_biased))\n",
    "    \n",
    "    return new_word_emb#, B im paper steht, dass auch B returned werden soll, aber das macht hier keinen Sinn"
   ]
  },
  {
   "cell_type": "code",
   "execution_count": 79,
   "metadata": {},
   "outputs": [],
   "source": [
    "def hard_debias_2 (word_emb, equality_sets=female_male_pairs, B=gender_subspace):\n",
    "    \"\"\"performs hard debias on a word embedding to neutralize it,\n",
    "    \n",
    "    takes \n",
    "    word_emb: word embedding of the word to be neutralized,\n",
    "    equalize_pairs: equality pairs, each neutral word should be equidistant to all words in each equality set\n",
    "    B: the bias subspace\n",
    "    \n",
    "    returns\n",
    "    B: the bias subspace\n",
    "    new_word_emb: the new embedding for word_emb\n",
    "    \"\"\"\n",
    "    \n",
    "    # if word_emb is a single embedding:\n",
    "        # w_orth(word_emb)\n",
    "        \n",
    "    # if word_emb is the embeddings of all words to be neutralized:\n",
    "    \n",
    "    new_word_emb = np.zeros((word_emb.shape))\n",
    "    for i, embedding in enumerate(word_emb):\n",
    "        new_word_emb[i] = w_orth(embedding, B)\n",
    "        \n",
    "    for equal_set in equality_sets:\n",
    "        if equal_set[0] in w2id and equal_set[1] in w2id:\n",
    "            mean = (embed(equal_set[0]) + embed(equal_set[1])) / 2\n",
    "            mean_biased = mean - w_orth(mean, B)\n",
    "            v = mean - mean_biased # what is the biased mean?\n",
    "            # print(v)\n",
    "            for word in equal_set:\n",
    "                # print(word)\n",
    "                word_biased = embed(word) - w_orth(embed(word), B)\n",
    "                # print(np.linalg.norm(v))\n",
    "                # new_embed = v + np.sqrt(1 - (np.linalg.norm(v)) ** 2) * ((word_biased - mean_biased) / unit_vec(word_biased - mean_biased))\n",
    "                new_embed = v * ((word_biased - mean_biased) / unit_vec(word_biased - mean_biased))\n",
    "                \n",
    "    return new_word_emb#, B im paper steht, dass auch B returned werden soll, aber das macht hier keinen Sinn"
   ]
  },
  {
   "cell_type": "code",
   "execution_count": 80,
   "metadata": {},
   "outputs": [],
   "source": [
    "def w_orth (word_emb, direction):\n",
    "    \"\"\"\n",
    "    removes direction from word embedding by calculating the orthogonal word vector\n",
    "    \n",
    "    w_orth = w - (projection of w onto direction)\n",
    "    w_orth = w - (direction * (w dot direction))\n",
    "    \n",
    "    takes \n",
    "    word_emb: word to remove the direction from\n",
    "    direction: the direction to remove\n",
    "    \n",
    "    returns\n",
    "    unit vector embedding orthogonal to direction   \n",
    "    \"\"\"\n",
    "    \n",
    "    # formula from Bolukbasi et al. (2016)\n",
    "    new_word = word_emb - ((word_emb.dot(direction)) * direction)\n",
    "    \n",
    "\n",
    "    # print(new_word_emb_two, new_word_emb, new)\n",
    "    #print(new.shape)\n",
    "    \n",
    "    return unit_vec(new_word)"
   ]
  },
  {
   "cell_type": "code",
   "execution_count": 81,
   "metadata": {
    "scrolled": true
   },
   "outputs": [
    {
     "name": "stdout",
     "output_type": "stream",
     "text": [
      "eval: [0.786, 0.7845, 0.763, 0.7565, 0.74, 0.753, 0.7615, 0.739, 0.739, 0.761, 0.7605, 0.761, 0.739, 0.758, 0.7615, 0.757, 0.7605, 0.7615, 0.7404999999999999, 0.761]\n",
      "7\n"
     ]
    }
   ],
   "source": [
    "result_equal = double_hard_debias(embedding, embedding_neutral, id_neutral, index_m, index_f)"
   ]
  },
  {
   "cell_type": "code",
   "execution_count": 82,
   "metadata": {
    "scrolled": true
   },
   "outputs": [
    {
     "name": "stdout",
     "output_type": "stream",
     "text": [
      "[[ 0.06391201 -0.06563438 -0.00239887 ...  0.0086454   0.0736558\n",
      "  -0.0166379 ]\n",
      " [ 0.04399874  0.00712372  0.03884452 ...  0.01346767  0.06413636\n",
      "  -0.07343301]\n",
      " [ 0.01482999 -0.00655061  0.06630689 ...  0.01277236  0.02397485\n",
      "  -0.02752437]\n",
      " ...\n",
      " [-0.04152475  0.00393666 -0.13917012 ... -0.02381067  0.01355542\n",
      "   0.07963782]\n",
      " [-0.05067399 -0.06722245  0.07248474 ... -0.0060112  -0.04362588\n",
      "   0.0064206 ]\n",
      " [ 0.02887545 -0.04942778  0.02287654 ... -0.02678547  0.01743137\n",
      "  -0.03597922]]\n"
     ]
    }
   ],
   "source": [
    "print(result_equal)"
   ]
  },
  {
   "cell_type": "code",
   "execution_count": 83,
   "metadata": {},
   "outputs": [
    {
     "name": "stdout",
     "output_type": "stream",
     "text": [
      "(72306, 300)\n"
     ]
    }
   ],
   "source": [
    "print(result_equal.shape)"
   ]
  },
  {
   "cell_type": "code",
   "execution_count": 84,
   "metadata": {},
   "outputs": [
    {
     "name": "stdout",
     "output_type": "stream",
     "text": [
      "eval: [0.7875, 0.715, 0.7625, 0.7565, 0.7384999999999999, 0.747, 0.7375, 0.762, 0.7615, 0.7585, 0.7395, 0.76, 0.762, 0.7585, 0.759, 0.7444999999999999, 0.761, 0.7585, 0.742, 0.739]\n",
      "1\n"
     ]
    }
   ],
   "source": [
    "result_fem_male = double_hard_debias(embedding, embedding_neutral, id_neutral, index_m, index_f)"
   ]
  },
  {
   "cell_type": "code",
   "execution_count": 85,
   "metadata": {},
   "outputs": [
    {
     "name": "stdout",
     "output_type": "stream",
     "text": [
      "[[ 0.05877288 -0.06798788  0.00090709 ...  0.00863048  0.0853816\n",
      "  -0.01082865]\n",
      " [ 0.03183749  0.00894463  0.046105   ...  0.01855882  0.0675874\n",
      "  -0.06041735]\n",
      " [ 0.00377671 -0.00849032  0.07394014 ...  0.01467634  0.03995251\n",
      "  -0.01584751]\n",
      " ...\n",
      " [-0.04127628  0.00191055 -0.13965123 ... -0.02568038  0.02017007\n",
      "   0.07948502]\n",
      " [-0.052175   -0.07313977  0.07370454 ... -0.01020328 -0.02606924\n",
      "   0.00760593]\n",
      " [ 0.01788982 -0.04848058  0.02968068 ... -0.0227031   0.02349105\n",
      "  -0.02431481]]\n"
     ]
    }
   ],
   "source": [
    "print(result_fem_male)"
   ]
  },
  {
   "cell_type": "code",
   "execution_count": 86,
   "metadata": {},
   "outputs": [
    {
     "name": "stdout",
     "output_type": "stream",
     "text": [
      "[[False False False ... False False False]\n",
      " [False False False ... False False False]\n",
      " [False False False ... False False False]\n",
      " ...\n",
      " [False False False ... False False False]\n",
      " [False False False ... False False False]\n",
      " [False False False ... False False False]]\n"
     ]
    }
   ],
   "source": [
    "print(result_equal == result_fem_male)"
   ]
  },
  {
   "cell_type": "markdown",
   "metadata": {},
   "source": [
    "### Word Embedding Association Test\n",
    "Implementation taken from \"https://github.com/shivaomrani/HumanBiasInSemantics\". \n",
    "With minor adjustments such as variable names for readability, see file \"weat.py\"."
   ]
  },
  {
   "cell_type": "code",
   "execution_count": 60,
   "metadata": {},
   "outputs": [],
   "source": [
    "# Career and family\n",
    "# Change from Bill to Tom as in paper to avoid ambiguity\n",
    "male_names = [\"john\", \"paul\", \"mike\", \"kevin\", \"steve\", \"greg\", \"jeff\", \"tom\"]\n",
    "female_names = [\"amy\", \"joan\", \"lisa\", \"sarah\", \"diana\", \"kate\", \"ann\", \"donna\"]\n",
    "career_attributes = [\"executive\", \"management\", \"professional\", \"corporation\", \"salary\", \"office\", \"business\", \"career\"]\n",
    "family_attributes = [\"home\", \"parents\", \"children\", \"family\", \"cousins\", \"marriage\", \"wedding\", \"relatives\"]"
   ]
  },
  {
   "cell_type": "code",
   "execution_count": 61,
   "metadata": {},
   "outputs": [],
   "source": [
    "# Math and arts\n",
    "math_words = [\"math\", \"algebra\", \"geometry\", \"calculus\", \"equations\", \"computation\", \"numbers\", \"addition\"]\n",
    "arts_words1 = [\"poetry\", \"art\", \"dance\", \"literature\", \"novel\", \"symphony\", \"drama\", \"sculpture\"]\n",
    "male_attributes1 = [\"male\", \"man\", \"boy\", \"brother\", \"he\", \"him\", \"his\", \"son\"]\n",
    "female_attributes1 = [\"female\", \"woman\", \"girl\", \"sister\", \"she\", \"her\", \"hers\", \"daughter\"]"
   ]
  },
  {
   "cell_type": "code",
   "execution_count": 62,
   "metadata": {},
   "outputs": [],
   "source": [
    "# Science and arts\n",
    "science_words = [\"science\", \"technology\", \"pyhsics\", \"chemistry\", \"einstein\", \"nasa\", \"experiment\", \"astronomy\"]\n",
    "arts_words2 = [\"poetry\", \"art\", \"shakespeare\", \"dance\", \"literature\", \"novel\", \"symphony\", \"drama\"]\n",
    "male_attributes2 = [\"brother\", \"father\", \"uncle\", \"grandfather\", \"son\", \"he\", \"his\", \"him\"]\n",
    "female_attributes2 = [\"sister\", \"mother\", \"aunt\", \"grandmother\", \"daughter\", \"she\", \"hers\", \"her\"]"
   ]
  },
  {
   "cell_type": "code",
   "execution_count": 87,
   "metadata": {
    "scrolled": false
   },
   "outputs": [
    {
     "name": "stdout",
     "output_type": "stream",
     "text": [
      "The difference of means is  0.06490189518884927\n",
      "Generating null distribution...\n",
      "Number of permutations  100000\n",
      "Getting the entire distribution\n",
      "p-value:  0.0014929757150399237\n",
      "effect size:  1.4876466581210122\n",
      "standard deviation:  0.02184173905370934\n"
     ]
    }
   ],
   "source": [
    "iterations = 100000\n",
    "wea_test = weat(male_names, female_names, career_attributes, family_attributes, iterations, result_equal, w2id)\n",
    "pvalue, effect_size, sd = wea_test.getPValueAndEffect()\n",
    "print(\"p-value: \", pvalue)\n",
    "print(\"effect size: \", effect_size)\n",
    "print(\"standard deviation: \", sd)"
   ]
  },
  {
   "cell_type": "markdown",
   "metadata": {},
   "source": [
    "### Word Analogy"
   ]
  },
  {
   "cell_type": "code",
   "execution_count": 88,
   "metadata": {},
   "outputs": [],
   "source": [
    "import analogy_tasks as ana"
   ]
  },
  {
   "cell_type": "code",
   "execution_count": 89,
   "metadata": {},
   "outputs": [
    {
     "name": "stdout",
     "output_type": "stream",
     "text": [
      "capital-common-countries.txt:\n",
      "ACCURACY TOP1: 98.95% (283/286)\n",
      "capital-world.txt:\n",
      "ACCURACY TOP1: 92.83% (1774/1911)\n",
      "currency.txt:\n",
      "ACCURACY TOP1: 6.49% (27/416)\n",
      "city-in-state.txt:\n",
      "ACCURACY TOP1: 77.87% (1921/2467)\n",
      "family.txt:\n",
      "ACCURACY TOP1: 68.97% (349/506)\n",
      "gram1-adjective-to-adverb.txt:\n",
      "ACCURACY TOP1: 8.87% (88/992)\n",
      "gram2-opposite.txt:\n",
      "ACCURACY TOP1: 22.22% (168/756)\n",
      "gram3-comparative.txt:\n",
      "ACCURACY TOP1: 78.45% (1045/1332)\n",
      "gram4-superlative.txt:\n",
      "ACCURACY TOP1: 45.27% (421/930)\n",
      "gram5-present-participle.txt:\n",
      "ACCURACY TOP1: 47.63% (503/1056)\n",
      "gram6-nationality-adjective.txt:\n",
      "ACCURACY TOP1: 90.81% (1452/1599)\n",
      "gram7-past-tense.txt:\n",
      "ACCURACY TOP1: 34.87% (544/1560)\n",
      "gram8-plural.txt:\n",
      "ACCURACY TOP1: 71.62% (954/1332)\n",
      "gram9-plural-verbs.txt:\n",
      "ACCURACY TOP1: 45.44% (369/812)\n",
      "Questions seen/total: 81.64% (15955/19544)\n",
      "Semantic accuracy: 77.94%  (4354/5586)\n",
      "Syntactic accuracy: 53.47%  (5544/10369)\n",
      "Total accuracy: 62.04%  (9898/15955)\n"
     ]
    }
   ],
   "source": [
    "ana.evaluate_analogy_google(embedding, vocab, w2id)"
   ]
  },
  {
   "cell_type": "code",
   "execution_count": 90,
   "metadata": {},
   "outputs": [
    {
     "name": "stdout",
     "output_type": "stream",
     "text": [
      "capital-common-countries.txt:\n",
      "ACCURACY TOP1: 96.15% (275/286)\n",
      "capital-world.txt:\n",
      "ACCURACY TOP1: 96.91% (1852/1911)\n",
      "currency.txt:\n",
      "ACCURACY TOP1: 6.49% (27/416)\n",
      "city-in-state.txt:\n",
      "ACCURACY TOP1: 73.65% (1817/2467)\n",
      "family.txt:\n",
      "ACCURACY TOP1: 86.76% (439/506)\n",
      "gram1-adjective-to-adverb.txt:\n",
      "ACCURACY TOP1: 20.36% (202/992)\n",
      "gram2-opposite.txt:\n",
      "ACCURACY TOP1: 29.50% (223/756)\n",
      "gram3-comparative.txt:\n",
      "ACCURACY TOP1: 85.51% (1139/1332)\n",
      "gram4-superlative.txt:\n",
      "ACCURACY TOP1: 55.16% (513/930)\n",
      "gram5-present-participle.txt:\n",
      "ACCURACY TOP1: 62.22% (657/1056)\n",
      "gram6-nationality-adjective.txt:\n",
      "ACCURACY TOP1: 92.12% (1473/1599)\n",
      "gram7-past-tense.txt:\n",
      "ACCURACY TOP1: 56.60% (883/1560)\n",
      "gram8-plural.txt:\n",
      "ACCURACY TOP1: 78.23% (1042/1332)\n",
      "gram9-plural-verbs.txt:\n",
      "ACCURACY TOP1: 58.50% (475/812)\n",
      "Questions seen/total: 81.64% (15955/19544)\n",
      "Semantic accuracy: 78.95%  (4410/5586)\n",
      "Syntactic accuracy: 63.72%  (6607/10369)\n",
      "Total accuracy: 69.05%  (11017/15955)\n"
     ]
    }
   ],
   "source": [
    "ana.evaluate_analogy_google(result_equal, vocab, w2id)"
   ]
  },
  {
   "cell_type": "code",
   "execution_count": 91,
   "metadata": {},
   "outputs": [
    {
     "name": "stdout",
     "output_type": "stream",
     "text": [
      "5252\n",
      "ACCURACY TOP1-MSR: 53.54% (2812/5252)\n"
     ]
    }
   ],
   "source": [
    "ana.evaluate_analogy_msr(embedding, vocab, w2id)"
   ]
  },
  {
   "cell_type": "code",
   "execution_count": 92,
   "metadata": {},
   "outputs": [
    {
     "name": "stdout",
     "output_type": "stream",
     "text": [
      "5252\n",
      "ACCURACY TOP1-MSR: 61.73% (3242/5252)\n"
     ]
    }
   ],
   "source": [
    "ana.evaluate_analogy_msr(result_equal, vocab, w2id)"
   ]
  }
 ],
 "metadata": {
  "kernelspec": {
   "display_name": "Python 3",
   "language": "python",
   "name": "python3"
  },
  "language_info": {
   "codemirror_mode": {
    "name": "ipython",
    "version": 3
   },
   "file_extension": ".py",
   "mimetype": "text/x-python",
   "name": "python",
   "nbconvert_exporter": "python",
   "pygments_lexer": "ipython3",
   "version": "3.7.9"
  }
 },
 "nbformat": 4,
 "nbformat_minor": 4
}
