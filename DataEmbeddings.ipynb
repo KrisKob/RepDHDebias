{
 "cells": [
  {
   "cell_type": "code",
   "execution_count": 67,
   "metadata": {},
   "outputs": [],
   "source": [
    "import urllib.request\n",
    "import numpy as np\n",
    "import json"
   ]
  },
  {
   "cell_type": "code",
   "execution_count": 68,
   "metadata": {},
   "outputs": [],
   "source": [
    "# URL to retrive pre-trained 300 dimensional gloVe embedding\n",
    "embedding_300_url = \"http://www.cs.virginia.edu/~tw8cb/word_embeddings/vectors300.txt\"\n",
    "#embedding_300_url = \"http://www.cs.virginia.edu/~tw8cb/word_embeddings/vectors.txt\"\n",
    "\n",
    "def read_embedding(url):\n",
    "    \"\"\"Function to read out an embedding\n",
    "    Input: url: url to embedding\n",
    "    \n",
    "    Returns: vocab: list of words in the embedding\n",
    "             word2id: dictionary mapping words to ids\n",
    "             word_vectors: array storing the embeddings,\n",
    "                           row corresponds to word id\"\"\"\n",
    "    # Open url\n",
    "    data = urllib.request.urlopen(url)\n",
    "    vocab = []\n",
    "    word_vectors = []\n",
    "    \n",
    "    # Each line contains one word and its embedding\n",
    "    for line in data:\n",
    "        line = line.decode()\n",
    "        # Split by spaces\n",
    "        split = line.split()\n",
    "        # First element(== the word) is added to vocabulary\n",
    "        vocab.append(split[0])\n",
    "        # All other elements(embedding vectors) are added to vectors\n",
    "        word_vectors.append([float(elem) for elem in split[1:]])\n",
    "    \n",
    "    # Create a dictionary with word-id pairs based on the order\n",
    "    word2id = {w: i for i, w in enumerate(vocab)}\n",
    "    # Vectors are converted into an array\n",
    "    word_vectors = np.array(word_vectors).astype(float)\n",
    "    \n",
    "    return vocab, word2id, word_vectors\n",
    "    \n",
    "embedding_300_vocab, embedding_300_word2id, embedding_300_word_vector = read_embedding(embedding_300_url)"
   ]
  },
  {
   "cell_type": "code",
   "execution_count": 69,
   "metadata": {},
   "outputs": [],
   "source": [
    "female_words_url = \"https://raw.githubusercontent.com/uvavision/Double-Hard-Debias/master/data/female_word_file.txt\"\n",
    "female_words_data = urllib.request.urlopen(female_words_url)\n",
    "female_words_list = []\n",
    "for line in female_words_data:\n",
    "    line = line.decode()\n",
    "    line = line.split()\n",
    "    female_words_list.append(line[0])"
   ]
  },
  {
   "cell_type": "code",
   "execution_count": 70,
   "metadata": {},
   "outputs": [],
   "source": [
    "male_words_url = \"https://raw.githubusercontent.com/uvavision/Double-Hard-Debias/master/data/male_word_file.txt\"\n",
    "male_words_data = urllib.request.urlopen(male_words_url)\n",
    "male_words_list = []\n",
    "for line in male_words_data:\n",
    "    line = line.decode()\n",
    "    line = line.split()\n",
    "    male_words_list.append(line[0])"
   ]
  },
  {
   "cell_type": "code",
   "execution_count": 71,
   "metadata": {},
   "outputs": [],
   "source": [
    "def exclude_vocab(vocab, word2id, word_vector, exclude):\n",
    "    \"\"\"Function to exclude specific words from vocabulary\n",
    "    Input: vocab: list of words in the embedding\n",
    "           word2id: dictionary mapping words to ids\n",
    "           word_vector: array storing the embedding vectors\n",
    "           exclude: list of words to exclude from the vocabulary\n",
    "           \n",
    "    Returns: limited_vocab: vocab without the words in exclude\n",
    "             limited_word2id: word2id without the words in exclude\n",
    "             limited_word_vector: word_vector without the words in exclude\"\"\"\n",
    "    # Create copies of vocab, word2id and word_vector\n",
    "    limited_word_vector = word_vector.copy()\n",
    "    limited_vocab = vocab.copy()\n",
    "    limited_word2id = word2id.copy()\n",
    "    # For all words that are in exclude and vocab\n",
    "    for word in exclude:\n",
    "        if word in limited_vocab:\n",
    "            # Get id of word\n",
    "            id = word2id[word]\n",
    "            # Delete row corresponding to word from word_vector\n",
    "            limited_word_vector = np.delete(limited_word_vector, id, axis = 0)\n",
    "            # Remove word from vocab\n",
    "            limited_vocab.remove(word)\n",
    "            # Remove key-value pair of word from word2id\n",
    "            del limited_word2id[word]\n",
    "            \n",
    "    return limited_vocab, limited_word2id, limited_word_vector"
   ]
  },
  {
   "cell_type": "code",
   "execution_count": 82,
   "metadata": {},
   "outputs": [],
   "source": [
    "# URLs to the files storing differnt gender specific words\n",
    "female_words_url = \"https://raw.githubusercontent.com/uvavision/Double-Hard-Debias/master/data/female_word_file.txt\"\n",
    "male_words_url = \"https://raw.githubusercontent.com/uvavision/Double-Hard-Debias/master/data/male_word_file.txt\"\n",
    "gender_specific_url = \"https://raw.githubusercontent.com/uvavision/Double-Hard-Debias/master/data/gender_specific_full.json\"\n",
    "\n",
    "# Empty list to accumulate gender specific words\n",
    "gender_specific = []\n",
    "\n",
    "# Read out URL and add male gender specific words\n",
    "with urllib.request.urlopen(male_words_url) as f:\n",
    "    for l in f:\n",
    "        gender_specific.append(l.decode().strip())\n",
    "        \n",
    "# Read out URL and add female gender specific words \n",
    "with urllib.request.urlopen(female_words_url) as f:\n",
    "    for l in f:\n",
    "        gender_specific.append(l.decode().strip())\n",
    "\n",
    "# Read out URL and add further gender specific words\n",
    "with urllib.request.urlopen(gender_specific_url) as f:\n",
    "    gender_specific.extend(json.load(f))\n",
    "\n",
    "exclude_words = gender_specific"
   ]
  },
  {
   "cell_type": "code",
   "execution_count": 73,
   "metadata": {},
   "outputs": [
    {
     "name": "stdout",
     "output_type": "stream",
     "text": [
      "vocab size:  322636\n",
      "limited vocab size:  322099\n"
     ]
    }
   ],
   "source": [
    "# Remove gender specific words from the embedding\n",
    "embedding_300_vocab_limit, embedding_300_word2id_limit, embedding_300_word_vector_limit = exclude_vocab(embedding_300_vocab, embedding_300_word2id, embedding_300_word_vector, exclude_words)\n",
    "print(\"vocab size: \", len(embedding_300_vocab))\n",
    "print(\"limited vocab size: \", len(embedding_300_vocab_limit))"
   ]
  },
  {
   "cell_type": "code",
   "execution_count": 86,
   "metadata": {},
   "outputs": [],
   "source": [
    "# URL to the file storing definitional pairs\n",
    "definitial_pairs_url = \"https://raw.githubusercontent.com/uvavision/Double-Hard-Debias/master/data/definitional_pairs.json\"\n",
    "\n",
    "# Empty list to store definitional pairs\n",
    "definitional_pairs = []\n",
    "\n",
    "\n",
    "# Read out url and add pairs in list\n",
    "with urllib.request.urlopen(definitial_pairs_url) as f:\n",
    "    definitional_pairs.extend(json.load(f))\n",
    "\n",
    "\n",
    "# Create list of single words instead of pairs  \n",
    "definitional_words = []\n",
    "for pair in definitional_pairs:\n",
    "    for word in pair:\n",
    "        definitional_words.append(word.lower())"
   ]
  }
 ],
 "metadata": {
  "kernelspec": {
   "display_name": "Python 3",
   "language": "python",
   "name": "python3"
  },
  "language_info": {
   "codemirror_mode": {
    "name": "ipython",
    "version": 3
   },
   "file_extension": ".py",
   "mimetype": "text/x-python",
   "name": "python",
   "nbconvert_exporter": "python",
   "pygments_lexer": "ipython3",
   "version": "3.7.6"
  }
 },
 "nbformat": 4,
 "nbformat_minor": 4
}
