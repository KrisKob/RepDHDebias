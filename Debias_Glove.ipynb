{
 "cells": [
  {
   "cell_type": "code",
   "execution_count": 1,
   "metadata": {},
   "outputs": [
    {
     "name": "stdout",
     "output_type": "stream",
     "text": [
      "successfully loaded utils\n",
      "successfully loaded hard_debias\n",
      "successfully loaded double_hard_debias\n",
      "Original vocab size:  322636\n",
      "Restricted vocab size:  47974\n",
      "Neutral vocab size:  47597\n",
      "successfully loaded data_embeddings\n"
     ]
    }
   ],
   "source": [
    "import utils\n",
    "from hard_debias import HardDebias as hd\n",
    "from double_hard_debias import DoubleHardDebias as dhd\n",
    "import data_embeddings as data # this takes a while, files are retrieved from Wang et al.'s Github repository"
   ]
  },
  {
   "cell_type": "code",
   "execution_count": 2,
   "metadata": {},
   "outputs": [],
   "source": [
    "gender_subspace = hd.idtfy_gender_subspace(data.embedding, data.vocab, data.w2id, data.definitional_pairs)"
   ]
  },
  {
   "cell_type": "code",
   "execution_count": 6,
   "metadata": {},
   "outputs": [
    {
     "name": "stdout",
     "output_type": "stream",
     "text": [
      "female most biased words ['different', 'calls', 'tank', 'balmain', 'public', 'allosteric', 'availability', 'appellant', 'facing', 'ingeborg', 'benefice', 'shutout', 'lengths', 'notwithstanding', 'catering', 'margot', 'butterfly', 'props', 'laryngeal', 'chilean', 'lifetimes', 'fans', 'outside', 'alp', 'pottery', 'timorese', 'northern', 'race', 'blunt', 'bill', 'breeches', 'conceptual', 'syfy', 'logo', 'arad', 'exporters', 'delicate', 'dharwad', 'veil', 'contacted', 'regarding', 'player', 'charts', 'stairs', 'pip', 'recoverable', 'sprang', 'untreated', 'appeared', 'vectors', 'relating', 'reconnaissance', 'habsburg', 'races', 'seo', 'albums', 'camila', 'organic', 'fixation', 'burial', 'frederica', 'foreign', 'christianity', 'josie', 'hegel', 'verbandsgemeinde', 'national', 'deduce', 'blanca', 'arts', 'highway', 'kumar', 'cystic', 'crowd', 'grove', 'staffel', 'front', 'posted', 'patrimony', 'rotor', 'training', 'soups', 'starfish', 'deadlines', 'herself', 'common', 'hamlet', 'blade', 'outlaws', 'tyrol', 'mombasa', 'celebrities', 'perce', 'helped', 'matchups', 'rossa', 'edges', 'jellicoe', 'sphingidae', 'monopolies', 'blotches', 'jacobean', 'congo', 'self', 'researcher', 'engel', 'drives', 'concentration', 'mariners', 'abolition', 'zack', 'yearbook', 'kirov', 'deco', 'veto', 'embellished', 'decides', 'nanda', 'bermondsey', 'whittle', 'culture', 'leigh', 'haughey', 'telegrams', 'josephus', 'instead', 'despite', 'galápagos', 'movie', 'starred', 'gum', 'bulgarians', 'nubian', 'telescopes', 'graduation', 'endemic', 'bearings', 'kind', 'grigory', 'organises', 'multiples', 'epp', 'safer', 'persona', 'asquith', 'riaj', 'hamilton', 'champions', 'municipality', 'competence', 'bangladeshi', 'romantically', 'defeat', 'workers', 'brooding', 'fgm', 'haploid', 'hindmarsh', 'diacritics', 'species', 'categories', 'commuter', 'recipes', 'undated', 'swelling', 'hearings', 'ecuadorian', 'poli', 'mains', 'khosrow', 'minor', 'waterproof', 'torpedoed', 'godley', 'omni', 'shona', 'potent', 'holiday', 'jacques', 'cab', 'loftus', 'detailed', 'benton', 'isaiah', 'legendre', 'dwayne', 'whoever', 'annan', 'launch', 'overlooking', 'aa', 'target', 'actuators', 'honoree', 'whole', 'agents', 'usually', 'celestial', 'evening', 'godmother', 'quadrilateral', 'mit', 'dunham', 'yeshiva', 'macroeconomic', 'organ', 'tunstall', 'facilities', 'loops', 'theseus', 'shakes', 'malaysia', 'ova', 'shared', 'auto', 'laptops', 'medieval', 'soccer', 'dominance', 'resembled', 'christopher', 'dandy', 'soe', 'l', 'labour', 'patel', 'bwf', 'eleventh', 'nickelodeon', 'overwhelming', 'piedras', 'ayatollah', 'engagements', 'pigeon', 'sword', 'tohoku', 'kenny', 'burney', 'altars', 'polarization', 'axis', 'conjoined', 'rosalie', 'monotone', 'negligent', 'cured', 'lingam', 'renumbered', 'whitechapel', 'homosexuality', 'penetrate', 'turkish', 'martens', 'institutions', 'bucknell', 'edirne', 'pallet', 'clumsy', 'seafront', 'purpose', 'snack', 'chestnut', 'apologies', 'pei', 'platte', 'bridegroom', 'due', 'glare', 'yards', 'antioquia', 'agencies', 'singapore', 'denny', 'hungary', 'bbc', 'honour', 'attending', 'dream', 'animal', 'regarded', 'plot', 'padres', 'coding', 'caliphs', 'grunge', 'zelda', 'ferocious', 'negative', 'banished', 'buffalo', 'pours', 'lockers', 'deteriorating', 'books', 'exit', 'convicted', 'berliner', 'fontaine', 'landscaped', 'deny', 'extramarital', 'cassidy', 'bookmakers', 'affiliate', 'uniquely', 'magister', 'mohawk', 'pappas', 'arrange', 'bandits', 'busts', 'fk', 'cloister', 'about', 'doubles', 'limitation', 'blown', 'photograph', 'brownish', 'designer', 'compromise', 'monty', 'unfortunate', 'gerda', 'seeds', 'semigroup', 'accordance', 'molly', 'difficulty', 'equipping', 'spears', 'expanded', 'concepción', 'cta', 'squarepants', 'explode', 'dissolution', 'rules', 'emilie', 'committees', 'handling', 'conceive', 'devaluation', 'nuggets', 'spacious', 'jaw', 'iaf', 'promise', 'google', 'jenny', 'optic', 'spacecraft', 'antilles', 'money', 'braithwaite', 'desktop', 'prohibits', 'salaam', 'hotline', 'sandhya', 'coffers', 'lists', 'anglican', 'madero', 'jasper', 'reach', 'administrators', 'iman', 'forgives', 'leningrad', 'remodelling', 'hashtag', 'stabbed', 'barbosa', 'development', 'bruises', 'rostam', 'conducted', 'itc', 'allegiances', 'balthazar', 'canadian', 'biathlon', 'prost', 'wuhan', 'houseguests', 'collett', 'devotions', 'gaozu', 'concurred', 'meade', 'cherokee', 'balinese', 'belton', 'improvements', 'enemies', 'discontinuity', 'grenades', 'ile', 'perverse', 'corgan', 'urbanization', 'wheels', 'spice', 'rivers', 'br', 'sample', 'phil', 'mix', 'percival', 'spirit', 'reconstruction', 'geraldton', 'affirmed', 'splendor', 'future', 'debris', 'was', 'idiots', 'faustus', 'permanently', 'creeks', 'criterion', 'cloudy', 'prevent', 'arrondissements', 'aylmer', 'music', 'united', 'telugu', 'mtn', 'rhea', 'davos', 'breached', 'color', 'invade', 'connick', 'christiane', 'touched', 'elections', 'anonymous', 'kublai', 'passages', 'smart', 'saraswati', 'unwanted', 'prisons', 'northamptonshire', 'praxis', 'respectability', 'swivel', 'rivalry', 'rye', 'liable', 'kickoff', 'lupton', 'research', 'subsection', 'ceded', 'columbus', 'vodka', 'befriended', 'ziggler', 'pernambuco', 'hay', 'thickly', 'azov', 'compact', 'centerline', 'rudra', 'cultures', 'kde', 'scientifically', 'zone', 'assessed', 'pins', 'farm', 'eventual', 'kenyon', 'motorcycles', 'kepler', 'ideologies', 'contemporaries', 'earlier', 'collateral', 'fugitive', 'bloch', 'fahrenheit', 'lid', 'sphere', 'upton', 'faculties', 'oper', 'ajay', 'locating', 'suburban', 'whatever', 'endearing', 'pim', 'weeks']\n"
     ]
    }
   ],
   "source": [
    "index_f, index_m = dhd.most_biased(data.embedding_neutral, gender_subspace)\n",
    "\n",
    "female_most_biased = [data.vocab[i] for i in index_f]\n",
    "male_most_biased = [data.vocab[i] for i in index_m]\n",
    "print(\"female most biased words\", female_most_biased)"
   ]
  },
  {
   "cell_type": "code",
   "execution_count": null,
   "metadata": {},
   "outputs": [],
   "source": [
    "debiased_1 = dhd.double_hard_debias(data.embedding, data.w2id, data.embedding_neutral, data.id_neutral, data.equalize_pairs, index_m, index_f, gender_subspace)"
   ]
  },
  {
   "cell_type": "code",
   "execution_count": null,
   "metadata": {},
   "outputs": [],
   "source": [
    "debiased_2 = dhd.double_hard_debias(data.embedding, data.w2id, data.embedding_neutral, data.id_neutral, data.female_male_pairs, index_m, index_f, gender_subspace)"
   ]
  }
 ],
 "metadata": {
  "kernelspec": {
   "display_name": "Python 3",
   "language": "python",
   "name": "python3"
  },
  "language_info": {
   "codemirror_mode": {
    "name": "ipython",
    "version": 3
   },
   "file_extension": ".py",
   "mimetype": "text/x-python",
   "name": "python",
   "nbconvert_exporter": "python",
   "pygments_lexer": "ipython3",
   "version": "3.7.6"
  }
 },
 "nbformat": 4,
 "nbformat_minor": 4
}
