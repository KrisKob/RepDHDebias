{
 "cells": [
  {
   "cell_type": "code",
   "execution_count": 1,
   "metadata": {},
   "outputs": [],
   "source": [
    "import urllib.request\n",
    "import numpy as np\n",
    "from utils import utils\n",
    "import pandas as pd"
   ]
  },
  {
   "cell_type": "markdown",
   "metadata": {},
   "source": [
    "### Load further embeddings"
   ]
  },
  {
   "cell_type": "code",
   "execution_count": 2,
   "metadata": {},
   "outputs": [],
   "source": [
    "embedding_url = \"http://www.cs.virginia.edu/~tw8cb/word_embeddings/vectors.txt\"\n",
    "vocab_original, w2id_original, embedding_original = utils.read_embedding(embedding_url)\n",
    "vocab, w2id, embedding = utils.restrict_vocab(vocab_original, w2id_original, embedding_original)"
   ]
  },
  {
   "cell_type": "code",
   "execution_count": 9,
   "metadata": {},
   "outputs": [],
   "source": [
    "embedding_gn_url = \"http://www.cs.virginia.edu/~tw8cb/word_embeddings/vectors300.txt\"\n",
    "vocab_gn_original, w2id_gn_original, embedding_gn_original = utils.read_embedding(embedding_gn_url)\n",
    "vocab_gn, w2id_gn, embedding_gn = utils.restrict_vocab(vocab_gn_original, w2id_gn_original, embedding_gn_original)"
   ]
  },
  {
   "cell_type": "code",
   "execution_count": 10,
   "metadata": {},
   "outputs": [],
   "source": [
    "vocab_gn_a = vocab_gn\n",
    "w2id_gn_a = w2id_gn\n",
    "embedding_gn_a = utils.debias_gn(embedding_gn)"
   ]
  },
  {
   "cell_type": "code",
   "execution_count": 11,
   "metadata": {},
   "outputs": [],
   "source": [
    "embedding_hd_url = \"http://www.cs.virginia.edu/~tw8cb/word_embeddings/vectors_hd.txt\"\n",
    "vocab_hd_original, w2id_hd_original, embedding_hd_original = utils.read_embedding(embedding_hd_url)\n",
    "vocab_hd, w2id_hd, embedding_hd = utils.restrict_vocab(vocab_hd_original, w2id_hd_original, embedding_hd_original)"
   ]
  },
  {
   "cell_type": "code",
   "execution_count": 12,
   "metadata": {},
   "outputs": [],
   "source": [
    "embedding_hd_a_url = \"http://www.cs.virginia.edu/~tw8cb/word_embeddings/vectors_hd_a.txt\"\n",
    "vocab_hd_a_original, w2id_hd_a_original, embedding_hd_a_original = utils.read_embedding(embedding_hd_a_url)\n",
    "vocab_hd_a, w2id_hd_a, embedding_hd_a = utils.restrict_vocab(vocab_hd_a_original, w2id_hd_a_original, embedding_hd_a_original)"
   ]
  },
  {
   "cell_type": "code",
   "execution_count": 13,
   "metadata": {},
   "outputs": [],
   "source": [
    "embedding_gp_url = \"http://www.cs.virginia.edu/~tw8cb/word_embeddings/gp_glove.txt\"\n",
    "vocab_gp_original, w2id_gp_original, embedding_gp_original = utils.read_embedding(embedding_gp_url, skip_first = True)\n",
    "vocab_gp, w2id_gp, embedding_gp = utils.restrict_vocab(vocab_gp_original, w2id_gp_original, embedding_gp_original)"
   ]
  },
  {
   "cell_type": "code",
   "execution_count": 14,
   "metadata": {},
   "outputs": [],
   "source": [
    "embedding_gp_gn_url = \"http://www.cs.virginia.edu/~tw8cb/word_embeddings/gp_gn_glove.txt\"\n",
    "vocab_gp_gn_original, w2id_gp_gn_original, embedding_gp_gn_original = utils.read_embedding(embedding_gp_gn_url, skip_first = True)\n",
    "vocab_gp_gn, w2id_gp_gn, embedding_gp_gn = utils.restrict_vocab(vocab_gp_gn_original, w2id_gp_gn_original, embedding_gp_gn_original)"
   ]
  },
  {
   "cell_type": "markdown",
   "metadata": {},
   "source": [
    "### Word Embedding Association Test\n",
    "Implementation taken from \"https://github.com/shivaomrani/HumanBiasInSemantics\". \n",
    "With minor adjustments such as variable names for readability, see file \"weat.py\"."
   ]
  },
  {
   "cell_type": "code",
   "execution_count": 3,
   "metadata": {},
   "outputs": [],
   "source": [
    "from weat import weat\n",
    "# auf embedding zugreifen, wenn wir das als .py haben"
   ]
  },
  {
   "cell_type": "code",
   "execution_count": 4,
   "metadata": {},
   "outputs": [],
   "source": [
    "# Career and family\n",
    "# Change from Bill to Tom as in paper to avoid ambiguity\n",
    "male_names = [\"john\", \"paul\", \"mike\", \"kevin\", \"steve\", \"greg\", \"jeff\", \"tom\"]\n",
    "female_names = [\"amy\", \"joan\", \"lisa\", \"sarah\", \"diana\", \"kate\", \"ann\", \"donna\"]\n",
    "career_attributes = [\"executive\", \"management\", \"professional\", \"corporation\", \"salary\", \"office\", \"business\", \"career\"]\n",
    "family_attributes = [\"home\", \"parents\", \"children\", \"family\", \"cousins\", \"marriage\", \"wedding\", \"relatives\"]"
   ]
  },
  {
   "cell_type": "code",
   "execution_count": 5,
   "metadata": {},
   "outputs": [],
   "source": [
    "# Math and arts\n",
    "math_words = [\"math\", \"algebra\", \"geometry\", \"calculus\", \"equations\", \"computation\", \"numbers\", \"addition\"]\n",
    "arts_words1 = [\"poetry\", \"art\", \"dance\", \"literature\", \"novel\", \"symphony\", \"drama\", \"sculpture\"]\n",
    "male_attributes1 = [\"male\", \"man\", \"boy\", \"brother\", \"he\", \"him\", \"his\", \"son\"]\n",
    "female_attributes1 = [\"female\", \"woman\", \"girl\", \"sister\", \"she\", \"her\", \"hers\", \"daughter\"]"
   ]
  },
  {
   "cell_type": "code",
   "execution_count": 6,
   "metadata": {},
   "outputs": [],
   "source": [
    "# Science and arts\n",
    "science_words = [\"science\", \"technology\", \"physics\", \"chemistry\", \"einstein\", \"nasa\", \"experiment\", \"astronomy\"]\n",
    "arts_words2 = [\"poetry\", \"art\", \"shakespeare\", \"dance\", \"literature\", \"novel\", \"symphony\", \"drama\"]\n",
    "male_attributes2 = [\"brother\", \"father\", \"uncle\", \"grandfather\", \"son\", \"he\", \"his\", \"him\"]\n",
    "female_attributes2 = [\"sister\", \"mother\", \"aunt\", \"grandmother\", \"daughter\", \"she\", \"hers\", \"her\"]"
   ]
  },
  {
   "cell_type": "code",
   "execution_count": 7,
   "metadata": {},
   "outputs": [
    {
     "name": "stdout",
     "output_type": "stream",
     "text": [
      "The difference of means is  0.14427444139552204\n",
      "Generating null distribution...\n",
      "Number of permutations  100000\n",
      "Getting the entire distribution\n",
      "p-value:  0.00015186700786395946\n",
      "effect size:  1.805996189486473\n",
      "standard deviation:  0.039943939043658144\n"
     ]
    }
   ],
   "source": [
    "iterations = 100000\n",
    "wea_test = weat(male_names, female_names, career_attributes, family_attributes, iterations, embedding, w2id)\n",
    "pvalue, effect_size, sd = wea_test.getPValueAndEffect()\n",
    "print(\"p-value: \", pvalue)\n",
    "print(\"effect size: \", effect_size)\n",
    "print(\"standard deviation: \", sd)"
   ]
  },
  {
   "cell_type": "code",
   "execution_count": 8,
   "metadata": {},
   "outputs": [
    {
     "name": "stdout",
     "output_type": "stream",
     "text": [
      "The difference of means is  0.14427444139552204\n",
      "Generating null distribution...\n",
      "Number of permutations  100000\n",
      "Getting the entire distribution\n",
      "The difference of means is  0.017384020758849605\n",
      "Generating null distribution...\n",
      "Number of permutations  100000\n",
      "Getting the entire distribution\n",
      "The difference of means is  0.03125220962100084\n",
      "Generating null distribution...\n",
      "Number of permutations  100000\n",
      "Getting the entire distribution\n"
     ]
    }
   ],
   "source": [
    "glove = []\n",
    "wea_test_glove_1 = weat(male_names, female_names, career_attributes, family_attributes, iterations, embedding, w2id)\n",
    "pvalue, effect_size, sd = wea_test_glove_1.getPValueAndEffect()\n",
    "glove.append(effect_size)\n",
    "glove.append(pvalue)\n",
    "wea_test_glove_2 = weat(math_words, arts_words1, male_attributes1, female_attributes1, iterations, embedding, w2id)\n",
    "pvalue, effect_size, sd = wea_test_glove_2.getPValueAndEffect()\n",
    "glove.append(effect_size)\n",
    "glove.append(pvalue)\n",
    "wea_test_glove_3 = weat(science_words, arts_words2, male_attributes2, female_attributes2, iterations, embedding, w2id)\n",
    "pvalue, effect_size, sd = wea_test_glove_3.getPValueAndEffect()\n",
    "glove.append(effect_size)\n",
    "glove.append(pvalue)"
   ]
  },
  {
   "cell_type": "code",
   "execution_count": 15,
   "metadata": {},
   "outputs": [
    {
     "name": "stdout",
     "output_type": "stream",
     "text": [
      "The difference of means is  0.15499514927315486\n",
      "Generating null distribution...\n",
      "Number of permutations  100000\n",
      "Getting the entire distribution\n",
      "The difference of means is  -0.007112942277976115\n",
      "Generating null distribution...\n",
      "Number of permutations  100000\n",
      "Getting the entire distribution\n",
      "The difference of means is  0.034820705835688644\n",
      "Generating null distribution...\n",
      "Number of permutations  100000\n",
      "Getting the entire distribution\n"
     ]
    }
   ],
   "source": [
    "gn = []\n",
    "wea_test_gn_1 = weat(male_names, female_names, career_attributes, family_attributes, iterations, embedding_gn, w2id_gn)\n",
    "pvalue, effect_size, sd = wea_test_gn_1.getPValueAndEffect()\n",
    "gn.append(effect_size)\n",
    "gn.append(pvalue)\n",
    "wea_test_gn_2 = weat(math_words, arts_words1, male_attributes1, female_attributes1, iterations, embedding_gn, w2id_gn)\n",
    "pvalue, effect_size, sd = wea_test_gn_2.getPValueAndEffect()\n",
    "gn.append(effect_size)\n",
    "gn.append(pvalue)\n",
    "wea_test_gn_3 = weat(science_words, arts_words2, male_attributes2, female_attributes2, iterations, embedding_gn, w2id_gn)\n",
    "pvalue, effect_size, sd = wea_test_gn_3.getPValueAndEffect()\n",
    "gn.append(effect_size)\n",
    "gn.append(pvalue)"
   ]
  },
  {
   "cell_type": "code",
   "execution_count": 16,
   "metadata": {},
   "outputs": [
    {
     "name": "stdout",
     "output_type": "stream",
     "text": [
      "The difference of means is  0.12253739268109173\n",
      "Generating null distribution...\n",
      "Number of permutations  100000\n",
      "Getting the entire distribution\n",
      "The difference of means is  0.019587125637860338\n",
      "Generating null distribution...\n",
      "Number of permutations  100000\n",
      "Getting the entire distribution\n",
      "The difference of means is  0.03415733599689595\n",
      "Generating null distribution...\n",
      "Number of permutations  100000\n",
      "Getting the entire distribution\n"
     ]
    }
   ],
   "source": [
    "gn_a = []\n",
    "wea_test_gn_a_1 = weat(male_names, female_names, career_attributes, family_attributes, iterations, embedding_gn_a, w2id_gn_a)\n",
    "pvalue, effect_size, sd = wea_test_gn_a_1.getPValueAndEffect()\n",
    "gn_a.append(effect_size)\n",
    "gn_a.append(pvalue)\n",
    "wea_test_gn_a_2 = weat(math_words, arts_words1, male_attributes1, female_attributes1, iterations, embedding_gn_a, w2id_gn_a)\n",
    "pvalue, effect_size, sd = wea_test_gn_a_2.getPValueAndEffect()\n",
    "gn_a.append(effect_size)\n",
    "gn_a.append(pvalue)\n",
    "wea_test_gn_a_3 = weat(science_words, arts_words2, male_attributes2, female_attributes2, iterations, embedding_gn_a, w2id_gn_a)\n",
    "pvalue, effect_size, sd = wea_test_gn_a_3.getPValueAndEffect()\n",
    "gn_a.append(effect_size)\n",
    "gn_a.append(pvalue)"
   ]
  },
  {
   "cell_type": "code",
   "execution_count": 17,
   "metadata": {},
   "outputs": [
    {
     "name": "stdout",
     "output_type": "stream",
     "text": [
      "The difference of means is  0.07614665743580948\n",
      "Generating null distribution...\n",
      "Number of permutations  100000\n",
      "Getting the entire distribution\n",
      "The difference of means is  -0.014647436877140887\n",
      "Generating null distribution...\n",
      "Number of permutations  100000\n",
      "Getting the entire distribution\n",
      "The difference of means is  -0.005444275364101841\n",
      "Generating null distribution...\n",
      "Number of permutations  100000\n",
      "Getting the entire distribution\n"
     ]
    }
   ],
   "source": [
    "hd = []\n",
    "wea_test_hd_1 = weat(male_names, female_names, career_attributes, family_attributes, iterations, embedding_hd, w2id_hd)\n",
    "pvalue, effect_size, sd = wea_test_hd_1.getPValueAndEffect()\n",
    "hd.append(effect_size)\n",
    "hd.append(pvalue)\n",
    "wea_test_hd_2 = weat(math_words, arts_words1, male_attributes1, female_attributes1, iterations, embedding_hd, w2id_hd)\n",
    "pvalue, effect_size, sd = wea_test_hd_2.getPValueAndEffect()\n",
    "hd.append(effect_size)\n",
    "hd.append(pvalue)\n",
    "wea_test_hd_3 = weat(science_words, arts_words2, male_attributes2, female_attributes2, iterations, embedding_hd, w2id_hd)\n",
    "pvalue, effect_size, sd = wea_test_hd_3.getPValueAndEffect()\n",
    "hd.append(effect_size)\n",
    "hd.append(pvalue)"
   ]
  },
  {
   "cell_type": "code",
   "execution_count": 18,
   "metadata": {},
   "outputs": [
    {
     "name": "stdout",
     "output_type": "stream",
     "text": [
      "The difference of means is  0.0761466457451525\n",
      "Generating null distribution...\n",
      "Number of permutations  100000\n",
      "Getting the entire distribution\n",
      "The difference of means is  -0.015041393649681871\n",
      "Generating null distribution...\n",
      "Number of permutations  100000\n",
      "Getting the entire distribution\n",
      "The difference of means is  -0.0056421381013170915\n",
      "Generating null distribution...\n",
      "Number of permutations  100000\n",
      "Getting the entire distribution\n"
     ]
    }
   ],
   "source": [
    "hd_a = []\n",
    "wea_test_hd_a_1 = weat(male_names, female_names, career_attributes, family_attributes, iterations, embedding_hd_a, w2id_hd_a)\n",
    "pvalue, effect_size, sd = wea_test_hd_a_1.getPValueAndEffect()\n",
    "hd_a.append(effect_size)\n",
    "hd_a.append(pvalue)\n",
    "wea_test_hd_a_2 = weat(math_words, arts_words1, male_attributes1, female_attributes1, iterations, embedding_hd_a, w2id_hd_a)\n",
    "pvalue, effect_size, sd = wea_test_hd_a_2.getPValueAndEffect()\n",
    "hd_a.append(effect_size)\n",
    "hd_a.append(pvalue)\n",
    "wea_test_hd_a_3 = weat(science_words, arts_words2, male_attributes2, female_attributes2, iterations, embedding_hd_a, w2id_hd_a)\n",
    "pvalue, effect_size, sd = wea_test_hd_a_3.getPValueAndEffect()\n",
    "hd_a.append(effect_size)\n",
    "hd_a.append(pvalue)"
   ]
  },
  {
   "cell_type": "code",
   "execution_count": 19,
   "metadata": {},
   "outputs": [
    {
     "name": "stdout",
     "output_type": "stream",
     "text": [
      "The difference of means is  0.13177703545420583\n",
      "Generating null distribution...\n",
      "Number of permutations  100000\n",
      "Getting the entire distribution\n",
      "The difference of means is  0.03140624663603611\n",
      "Generating null distribution...\n",
      "Number of permutations  100000\n",
      "Getting the entire distribution\n",
      "The difference of means is  0.029088767370794542\n",
      "Generating null distribution...\n",
      "Number of permutations  100000\n",
      "Getting the entire distribution\n"
     ]
    }
   ],
   "source": [
    "gp = []\n",
    "wea_test_gp_1 = weat(male_names, female_names, career_attributes, family_attributes, iterations, embedding_gp, w2id_gp)\n",
    "pvalue, effect_size, sd = wea_test_gp_1.getPValueAndEffect()\n",
    "gp.append(effect_size)\n",
    "gp.append(pvalue)\n",
    "wea_test_gp_2 = weat(math_words, arts_words1, male_attributes1, female_attributes1, iterations, embedding_gp, w2id_gp)\n",
    "pvalue, effect_size, sd = wea_test_gp_2.getPValueAndEffect()\n",
    "gp.append(effect_size)\n",
    "gp.append(pvalue)\n",
    "wea_test_gp_3 = weat(science_words, arts_words2, male_attributes2, female_attributes2, iterations, embedding_gp, w2id_gp)\n",
    "pvalue, effect_size, sd = wea_test_gp_3.getPValueAndEffect()\n",
    "gp.append(effect_size)\n",
    "gp.append(pvalue)"
   ]
  },
  {
   "cell_type": "code",
   "execution_count": 20,
   "metadata": {},
   "outputs": [
    {
     "name": "stdout",
     "output_type": "stream",
     "text": [
      "The difference of means is  0.14423039616120184\n",
      "Generating null distribution...\n",
      "Number of permutations  100000\n",
      "Getting the entire distribution\n",
      "The difference of means is  -0.00043065229584765725\n",
      "Generating null distribution...\n",
      "Number of permutations  100000\n",
      "Getting the entire distribution\n",
      "The difference of means is  0.025606829399608674\n",
      "Generating null distribution...\n",
      "Number of permutations  100000\n",
      "Getting the entire distribution\n"
     ]
    }
   ],
   "source": [
    "gp_gn = []\n",
    "wea_test_gp_gn_1 = weat(male_names, female_names, career_attributes, family_attributes, iterations, embedding_gp_gn, w2id_gp_gn)\n",
    "pvalue, effect_size, sd = wea_test_gp_gn_1.getPValueAndEffect()\n",
    "gp_gn.append(effect_size)\n",
    "gp_gn.append(pvalue)\n",
    "wea_test_gp_gn_2 = weat(math_words, arts_words1, male_attributes1, female_attributes1, iterations, embedding_gp_gn, w2id_gp_gn)\n",
    "pvalue, effect_size, sd = wea_test_gp_gn_2.getPValueAndEffect()\n",
    "gp_gn.append(effect_size)\n",
    "gp_gn.append(pvalue)\n",
    "wea_test_gp_gn_3 = weat(science_words, arts_words2, male_attributes2, female_attributes2, iterations, embedding_gp_gn, w2id_gp_gn)\n",
    "pvalue, effect_size, sd = wea_test_gp_gn_3.getPValueAndEffect()\n",
    "gp_gn.append(effect_size)\n",
    "gp_gn.append(pvalue)"
   ]
  },
  {
   "cell_type": "code",
   "execution_count": 22,
   "metadata": {},
   "outputs": [
    {
     "name": "stdout",
     "output_type": "stream",
     "text": [
      "                   C & F: d  C & F: p  M & A: d  M & A: p  S & A: d  S & A: p\n",
      "GloVe              1.805996  0.000148  0.688595  0.083871  1.129869  0.011909\n",
      "GN-GloVe           1.821105  0.000137 -0.256358  0.695921  1.068954  0.016092\n",
      "GN-GloVe(a)        1.755476  0.000225  0.503003  0.156548  0.879734  0.039469\n",
      "GP-GloVe           1.805885  0.000158  1.208529  0.007736  1.106440  0.013316\n",
      "GP-GN-GloVe        1.797431  0.000161 -0.012642  0.511166  0.846007  0.045813\n",
      "Hard-GloVe         1.546646  0.000968 -0.982604  0.975459 -0.538377  0.859100\n",
      "Strong-Hard-GloVe  1.546646  0.001003 -0.985681  0.975555 -0.547118  0.863234\n"
     ]
    }
   ],
   "source": [
    "data = []\n",
    "data.append(glove)\n",
    "data.append(gn)\n",
    "data.append(gn_a)\n",
    "data.append(gp)\n",
    "data.append(gp_gn)\n",
    "data.append(hd)\n",
    "data.append(hd_a)\n",
    "data = np.array(data).astype(float)\n",
    "row_names = [\"GloVe\", \"GN-GloVe\", \"GN-GloVe(a)\", \"GP-GloVe\", \"GP-GN-GloVe\", \"Hard-GloVe\", \"Strong-Hard-GloVe\"]\n",
    "column_names = [\"C & F: d\", \"C & F: p\", \"M & A: d\", \"M & A: p\", \"S & A: d\", \"S & A: p\"]\n",
    "df = pd.DataFrame(data = data, index = row_names, columns = column_names)\n",
    "print(df)"
   ]
  },
  {
   "cell_type": "markdown",
   "metadata": {},
   "source": [
    "### Word Analogy\n",
    "The word analogy task is to find a word *D* such that \"*A* is to *B* as *C* is to *D*\". Wang et al. (2020) have evaluated all non-debiased and debiased embeddings on the MSR word analogy task (Mikolov et al., 2013 Ling) as well as on a second Google word analogy dataset (Mikolov et al. 2013 Eff). The evaluation metric is the percentage of questions for which the correct answer is assigned the maximum score by the algorithm. The analogy task is used to show whether a debiasing method is capable of preserving desired distance relations between words."
   ]
  },
  {
   "cell_type": "code",
   "execution_count": 6,
   "metadata": {},
   "outputs": [],
   "source": [
    "from word_analogy import analogy_tasks as ana"
   ]
  },
  {
   "cell_type": "code",
   "execution_count": null,
   "metadata": {},
   "outputs": [],
   "source": [
    "ana.evaluate_analogy_msr(W, vocab)"
   ]
  }
 ],
 "metadata": {
  "kernelspec": {
   "display_name": "Python 3",
   "language": "python",
   "name": "python3"
  },
  "language_info": {
   "codemirror_mode": {
    "name": "ipython",
    "version": 3
   },
   "file_extension": ".py",
   "mimetype": "text/x-python",
   "name": "python",
   "nbconvert_exporter": "python",
   "pygments_lexer": "ipython3",
   "version": "3.7.6"
  }
 },
 "nbformat": 4,
 "nbformat_minor": 4
}
