{
 "cells": [
  {
   "cell_type": "code",
   "execution_count": null,
   "metadata": {},
   "outputs": [
    {
     "name": "stdout",
     "output_type": "stream",
     "text": [
      "successfully loaded utils\n"
     ]
    }
   ],
   "source": [
    "import urllib.request\n",
    "import numpy as np\n",
    "import pandas as pd\n",
    "import pickle\n",
    "import utils\n",
    "import further_embeddings as data # takes a while because it loads all embedding datasets"
   ]
  },
  {
   "cell_type": "code",
   "execution_count": null,
   "metadata": {},
   "outputs": [],
   "source": [
    "# load the two debiased embeddings obtained by our implementation of Double-Hard Debias\n",
    "file_1 = open('debiased_1/debiased_1.p', 'wb')\n",
    "debiased_equal = pickle.load(file_1)\n",
    "file_1.close()\n",
    "file_2 = open('debiased_2/debiased_2.p', 'wb')\n",
    "debiased_fem_male = pickle.load(file_2)\n",
    "file_2.close()\n",
    "# load the Double-Hard debiased embeddings obtained by Wang et al. (2020)\n",
    "file_3 = open('glove_dhd.p', 'wb')\n",
    "glove_dhd_wang = pickle.load(file_3)\n",
    "file_3.close()"
   ]
  },
  {
   "cell_type": "code",
   "execution_count": null,
   "metadata": {},
   "outputs": [],
   "source": [
    "dict_embeddings = {'original_glove': (embedding, vocab, w2id), 'glove_dhd_wang': (glove_dhd_wang, vocab, w2id), \n",
    "                   'debiased_equal': (debiased_equal, vocab, w2id), 'debiased_fem_male': (debiased_fem_male, vocab, w2id)}"
   ]
  },
  {
   "cell_type": "markdown",
   "metadata": {},
   "source": [
    "## Word Embedding Association Test\n",
    "Implementation taken from https://github.com/shivaomrani/HumanBiasInSemantics with minor adjustments such as variable names for readability. See file `weat.py`."
   ]
  },
  {
   "cell_type": "code",
   "execution_count": 2,
   "metadata": {},
   "outputs": [],
   "source": [
    "from weat import weat\n",
    "# auf embedding zugreifen, wenn wir das als Datei haben"
   ]
  },
  {
   "cell_type": "code",
   "execution_count": 3,
   "metadata": {},
   "outputs": [],
   "source": [
    "# Career and family\n",
    "# Change from Bill to Tom as in paper to avoid ambiguity\n",
    "male_names = [\"john\", \"paul\", \"mike\", \"kevin\", \"steve\", \"greg\", \"jeff\", \"tom\"]\n",
    "female_names = [\"amy\", \"joan\", \"lisa\", \"sarah\", \"diana\", \"kate\", \"ann\", \"donna\"]\n",
    "career_attributes = [\"executive\", \"management\", \"professional\", \"corporation\", \"salary\", \"office\", \"business\", \"career\"]\n",
    "family_attributes = [\"home\", \"parents\", \"children\", \"family\", \"cousins\", \"marriage\", \"wedding\", \"relatives\"]"
   ]
  },
  {
   "cell_type": "code",
   "execution_count": 4,
   "metadata": {},
   "outputs": [],
   "source": [
    "# Math and arts\n",
    "math_words = [\"math\", \"algebra\", \"geometry\", \"calculus\", \"equations\", \"computation\", \"numbers\", \"addition\"]\n",
    "arts_words1 = [\"poetry\", \"art\", \"dance\", \"literature\", \"novel\", \"symphony\", \"drama\", \"sculpture\"]\n",
    "male_attributes1 = [\"male\", \"man\", \"boy\", \"brother\", \"he\", \"him\", \"his\", \"son\"]\n",
    "female_attributes1 = [\"female\", \"woman\", \"girl\", \"sister\", \"she\", \"her\", \"hers\", \"daughter\"]"
   ]
  },
  {
   "cell_type": "code",
   "execution_count": 5,
   "metadata": {},
   "outputs": [],
   "source": [
    "# Science and arts\n",
    "science_words = [\"science\", \"technology\", \"physics\", \"chemistry\", \"einstein\", \"nasa\", \"experiment\", \"astronomy\"]\n",
    "arts_words2 = [\"poetry\", \"art\", \"shakespeare\", \"dance\", \"literature\", \"novel\", \"symphony\", \"drama\"]\n",
    "male_attributes2 = [\"brother\", \"father\", \"uncle\", \"grandfather\", \"son\", \"he\", \"his\", \"him\"]\n",
    "female_attributes2 = [\"sister\", \"mother\", \"aunt\", \"grandmother\", \"daughter\", \"she\", \"hers\", \"her\"]"
   ]
  },
  {
   "cell_type": "code",
   "execution_count": 6,
   "metadata": {},
   "outputs": [
    {
     "name": "stdout",
     "output_type": "stream",
     "text": [
      "The difference of means is  0.144274442398455\n",
      "Generating null distribution...\n",
      "Number of permutations  100000\n",
      "Getting the entire distribution\n",
      "p-value:  0.0001515339304264396\n",
      "effect size:  1.8059961891361644\n",
      "standard deviation:  0.03986284483860918\n"
     ]
    }
   ],
   "source": [
    "iterations = 100000\n",
    "wea_test = weat(male_names, female_names, career_attributes, family_attributes, iterations, data.embedding, data.w2id)\n",
    "pvalue, effect_size, sd = wea_test.getPValueAndEffect()\n",
    "print(\"p-value: \", pvalue)\n",
    "print(\"effect size: \", effect_size)\n",
    "print(\"standard deviation: \", sd)"
   ]
  },
  {
   "cell_type": "code",
   "execution_count": 7,
   "metadata": {},
   "outputs": [
    {
     "name": "stdout",
     "output_type": "stream",
     "text": [
      "The difference of means is  0.144274442398455\n",
      "Generating null distribution...\n",
      "Number of permutations  100000\n",
      "Getting the entire distribution\n",
      "The difference of means is  0.01738401491456898\n",
      "Generating null distribution...\n",
      "Number of permutations  100000\n",
      "Getting the entire distribution\n",
      "The difference of means is  0.031252209897502325\n",
      "Generating null distribution...\n",
      "Number of permutations  100000\n",
      "Getting the entire distribution\n"
     ]
    }
   ],
   "source": [
    "glove = []\n",
    "wea_test_glove_1 = weat(male_names, female_names, career_attributes, family_attributes, iterations, data.embedding, data.w2id)\n",
    "pvalue, effect_size, sd = wea_test_glove_1.getPValueAndEffect()\n",
    "glove.append(effect_size)\n",
    "glove.append(pvalue)\n",
    "wea_test_glove_2 = weat(math_words, arts_words1, male_attributes1, female_attributes1, iterations, data.embedding, data.w2id)\n",
    "pvalue, effect_size, sd = wea_test_glove_2.getPValueAndEffect()\n",
    "glove.append(effect_size)\n",
    "glove.append(pvalue)\n",
    "wea_test_glove_3 = weat(science_words, arts_words2, male_attributes2, female_attributes2, iterations, data.embedding, data.w2id)\n",
    "pvalue, effect_size, sd = wea_test_glove_3.getPValueAndEffect()\n",
    "glove.append(effect_size)\n",
    "glove.append(pvalue)"
   ]
  },
  {
   "cell_type": "code",
   "execution_count": 8,
   "metadata": {},
   "outputs": [
    {
     "name": "stdout",
     "output_type": "stream",
     "text": [
      "The difference of means is  0.15499514529074077\n",
      "Generating null distribution...\n",
      "Number of permutations  100000\n",
      "Getting the entire distribution\n",
      "The difference of means is  -0.007112938932550605\n",
      "Generating null distribution...\n",
      "Number of permutations  100000\n",
      "Getting the entire distribution\n",
      "The difference of means is  0.034820708526240196\n",
      "Generating null distribution...\n",
      "Number of permutations  100000\n",
      "Getting the entire distribution\n"
     ]
    }
   ],
   "source": [
    "gn = []\n",
    "wea_test_gn_1 = weat(male_names, female_names, career_attributes, family_attributes, iterations, data.embedding_gn, data.w2id_gn)\n",
    "pvalue, effect_size, sd = wea_test_gn_1.getPValueAndEffect()\n",
    "gn.append(effect_size)\n",
    "gn.append(pvalue)\n",
    "wea_test_gn_2 = weat(math_words, arts_words1, male_attributes1, female_attributes1, iterations, data.embedding_gn, data.w2id_gn)\n",
    "pvalue, effect_size, sd = wea_test_gn_2.getPValueAndEffect()\n",
    "gn.append(effect_size)\n",
    "gn.append(pvalue)\n",
    "wea_test_gn_3 = weat(science_words, arts_words2, male_attributes2, female_attributes2, iterations, data.embedding_gn, data.w2id_gn)\n",
    "pvalue, effect_size, sd = wea_test_gn_3.getPValueAndEffect()\n",
    "gn.append(effect_size)\n",
    "gn.append(pvalue)"
   ]
  },
  {
   "cell_type": "code",
   "execution_count": 9,
   "metadata": {},
   "outputs": [
    {
     "name": "stdout",
     "output_type": "stream",
     "text": [
      "The difference of means is  0.12253738998697372\n",
      "Generating null distribution...\n",
      "Number of permutations  100000\n",
      "Getting the entire distribution\n",
      "The difference of means is  0.01958712745545199\n",
      "Generating null distribution...\n",
      "Number of permutations  100000\n",
      "Getting the entire distribution\n",
      "The difference of means is  0.03415733441215707\n",
      "Generating null distribution...\n",
      "Number of permutations  100000\n",
      "Getting the entire distribution\n"
     ]
    }
   ],
   "source": [
    "gn_a = []\n",
    "wea_test_gn_a_1 = weat(male_names, female_names, career_attributes, family_attributes, iterations, data.embedding_gn_a, data.w2id_gn_a)\n",
    "pvalue, effect_size, sd = wea_test_gn_a_1.getPValueAndEffect()\n",
    "gn_a.append(effect_size)\n",
    "gn_a.append(pvalue)\n",
    "wea_test_gn_a_2 = weat(math_words, arts_words1, male_attributes1, female_attributes1, iterations, data.embedding_gn_a, data.w2id_gn_a)\n",
    "pvalue, effect_size, sd = wea_test_gn_a_2.getPValueAndEffect()\n",
    "gn_a.append(effect_size)\n",
    "gn_a.append(pvalue)\n",
    "wea_test_gn_a_3 = weat(science_words, arts_words2, male_attributes2, female_attributes2, iterations, data.embedding_gn_a, data.w2id_gn_a)\n",
    "pvalue, effect_size, sd = wea_test_gn_a_3.getPValueAndEffect()\n",
    "gn_a.append(effect_size)\n",
    "gn_a.append(pvalue)"
   ]
  },
  {
   "cell_type": "code",
   "execution_count": 10,
   "metadata": {},
   "outputs": [
    {
     "name": "stdout",
     "output_type": "stream",
     "text": [
      "The difference of means is  0.07614666296285577\n",
      "Generating null distribution...\n",
      "Number of permutations  100000\n",
      "Getting the entire distribution\n",
      "The difference of means is  -0.014647434276412241\n",
      "Generating null distribution...\n",
      "Number of permutations  100000\n",
      "Getting the entire distribution\n",
      "The difference of means is  -0.005444272304885089\n",
      "Generating null distribution...\n",
      "Number of permutations  100000\n",
      "Getting the entire distribution\n"
     ]
    }
   ],
   "source": [
    "hd = []\n",
    "wea_test_hd_1 = weat(male_names, female_names, career_attributes, family_attributes, iterations, data.embedding_hd, data.w2id_hd)\n",
    "pvalue, effect_size, sd = wea_test_hd_1.getPValueAndEffect()\n",
    "hd.append(effect_size)\n",
    "hd.append(pvalue)\n",
    "wea_test_hd_2 = weat(math_words, arts_words1, male_attributes1, female_attributes1, iterations, data.embedding_hd, data.w2id_hd)\n",
    "pvalue, effect_size, sd = wea_test_hd_2.getPValueAndEffect()\n",
    "hd.append(effect_size)\n",
    "hd.append(pvalue)\n",
    "wea_test_hd_3 = weat(science_words, arts_words2, male_attributes2, female_attributes2, iterations, data.embedding_hd, data.w2id_hd)\n",
    "pvalue, effect_size, sd = wea_test_hd_3.getPValueAndEffect()\n",
    "hd.append(effect_size)\n",
    "hd.append(pvalue)"
   ]
  },
  {
   "cell_type": "code",
   "execution_count": 11,
   "metadata": {},
   "outputs": [
    {
     "name": "stdout",
     "output_type": "stream",
     "text": [
      "The difference of means is  0.07614665298024192\n",
      "Generating null distribution...\n",
      "Number of permutations  100000\n",
      "Getting the entire distribution\n",
      "The difference of means is  -0.01504139811731875\n",
      "Generating null distribution...\n",
      "Number of permutations  100000\n",
      "Getting the entire distribution\n",
      "The difference of means is  -0.005642128220642917\n",
      "Generating null distribution...\n",
      "Number of permutations  100000\n",
      "Getting the entire distribution\n"
     ]
    }
   ],
   "source": [
    "hd_a = []\n",
    "wea_test_hd_a_1 = weat(male_names, female_names, career_attributes, family_attributes, iterations, data.embedding_hd_a, data.w2id_hd_a)\n",
    "pvalue, effect_size, sd = wea_test_hd_a_1.getPValueAndEffect()\n",
    "hd_a.append(effect_size)\n",
    "hd_a.append(pvalue)\n",
    "wea_test_hd_a_2 = weat(math_words, arts_words1, male_attributes1, female_attributes1, iterations, data.embedding_hd_a, data.w2id_hd_a)\n",
    "pvalue, effect_size, sd = wea_test_hd_a_2.getPValueAndEffect()\n",
    "hd_a.append(effect_size)\n",
    "hd_a.append(pvalue)\n",
    "wea_test_hd_a_3 = weat(science_words, arts_words2, male_attributes2, female_attributes2, iterations, data.embedding_hd_a, data.w2id_hd_a)\n",
    "pvalue, effect_size, sd = wea_test_hd_a_3.getPValueAndEffect()\n",
    "hd_a.append(effect_size)\n",
    "hd_a.append(pvalue)"
   ]
  },
  {
   "cell_type": "code",
   "execution_count": 12,
   "metadata": {},
   "outputs": [
    {
     "name": "stdout",
     "output_type": "stream",
     "text": [
      "The difference of means is  0.1317770363530144\n",
      "Generating null distribution...\n",
      "Number of permutations  100000\n",
      "Getting the entire distribution\n",
      "The difference of means is  0.031406250345753506\n",
      "Generating null distribution...\n",
      "Number of permutations  100000\n",
      "Getting the entire distribution\n",
      "The difference of means is  0.029088765440974385\n",
      "Generating null distribution...\n",
      "Number of permutations  100000\n",
      "Getting the entire distribution\n"
     ]
    }
   ],
   "source": [
    "gp = []\n",
    "wea_test_gp_1 = weat(male_names, female_names, career_attributes, family_attributes, iterations, data.embedding_gp, data.w2id_gp)\n",
    "pvalue, effect_size, sd = wea_test_gp_1.getPValueAndEffect()\n",
    "gp.append(effect_size)\n",
    "gp.append(pvalue)\n",
    "wea_test_gp_2 = weat(math_words, arts_words1, male_attributes1, female_attributes1, iterations, data.embedding_gp, data.w2id_gp)\n",
    "pvalue, effect_size, sd = wea_test_gp_2.getPValueAndEffect()\n",
    "gp.append(effect_size)\n",
    "gp.append(pvalue)\n",
    "wea_test_gp_3 = weat(science_words, arts_words2, male_attributes2, female_attributes2, iterations, data.embedding_gp, data.w2id_gp)\n",
    "pvalue, effect_size, sd = wea_test_gp_3.getPValueAndEffect()\n",
    "gp.append(effect_size)\n",
    "gp.append(pvalue)"
   ]
  },
  {
   "cell_type": "code",
   "execution_count": 13,
   "metadata": {},
   "outputs": [
    {
     "name": "stdout",
     "output_type": "stream",
     "text": [
      "The difference of means is  0.14423039597750176\n",
      "Generating null distribution...\n",
      "Number of permutations  100000\n",
      "Getting the entire distribution\n",
      "The difference of means is  -0.0004306499467929825\n",
      "Generating null distribution...\n",
      "Number of permutations  100000\n",
      "Getting the entire distribution\n",
      "The difference of means is  0.02560682910552714\n",
      "Generating null distribution...\n",
      "Number of permutations  100000\n",
      "Getting the entire distribution\n"
     ]
    }
   ],
   "source": [
    "gp_gn = []\n",
    "wea_test_gp_gn_1 = weat(male_names, female_names, career_attributes, family_attributes, iterations, data.embedding_gp_gn, data.w2id_gp_gn)\n",
    "pvalue, effect_size, sd = wea_test_gp_gn_1.getPValueAndEffect()\n",
    "gp_gn.append(effect_size)\n",
    "gp_gn.append(pvalue)\n",
    "wea_test_gp_gn_2 = weat(math_words, arts_words1, male_attributes1, female_attributes1, iterations, data.embedding_gp_gn, data.w2id_gp_gn)\n",
    "pvalue, effect_size, sd = wea_test_gp_gn_2.getPValueAndEffect()\n",
    "gp_gn.append(effect_size)\n",
    "gp_gn.append(pvalue)\n",
    "wea_test_gp_gn_3 = weat(science_words, arts_words2, male_attributes2, female_attributes2, iterations, data.embedding_gp_gn, data.w2id_gp_gn)\n",
    "pvalue, effect_size, sd = wea_test_gp_gn_3.getPValueAndEffect()\n",
    "gp_gn.append(effect_size)\n",
    "gp_gn.append(pvalue)"
   ]
  },
  {
   "cell_type": "code",
   "execution_count": 15,
   "metadata": {},
   "outputs": [
    {
     "name": "stdout",
     "output_type": "stream",
     "text": [
      "                   C & F: d  C & F: p  M & A: d  M & A: p  S & A: d  S & A: p\n",
      "GloVe              1.805996  0.000144  0.688595  0.084699  1.129869  0.011878\n",
      "GN-GloVe           1.821105  0.000137 -0.256358  0.695582  1.068954  0.016364\n",
      "GN-GloVe(a)        1.755476  0.000221  0.503003  0.159387  0.879733  0.039781\n",
      "GP-GloVe           1.805885  0.000155  1.208529  0.007637  1.106440  0.013436\n",
      "GP-GN-GloVe        1.797431  0.000156 -0.012642  0.511153  0.846007  0.045537\n",
      "Hard-GloVe         1.546646  0.000978 -0.982604  0.975189 -0.538376  0.858503\n",
      "Strong-Hard-GloVe  1.546646  0.000989 -0.985681  0.975160 -0.547118  0.862593\n"
     ]
    }
   ],
   "source": [
    "test_results = []\n",
    "test_results.append(glove)\n",
    "test_results.append(gn)\n",
    "test_results.append(gn_a)\n",
    "test_results.append(gp)\n",
    "test_results.append(gp_gn)\n",
    "test_results.append(hd)\n",
    "test_results.append(hd_a)\n",
    "test_results = np.array(test_results).astype(float)\n",
    "row_names = [\"GloVe\", \"GN-GloVe\", \"GN-GloVe(a)\", \"GP-GloVe\", \"GP-GN-GloVe\", \"Hard-GloVe\", \"Strong-Hard-GloVe\"]\n",
    "column_names = [\"C & F: d\", \"C & F: p\", \"M & A: d\", \"M & A: p\", \"S & A: d\", \"S & A: p\"]\n",
    "df = pd.DataFrame(data = test_results, index = row_names, columns = column_names)\n",
    "print(df)"
   ]
  },
  {
   "cell_type": "markdown",
   "metadata": {},
   "source": [
    "## Word Analogy\n",
    "The word analogy task is to find a word *D* such that \"*A* is to *B* as *C* is to *D*\". Wang et al. (2020) have evaluated all non-debiased and debiased embeddings on the MSR word analogy task [Mikolov et al., 2013a](https://www.aclweb.org/anthology/N13-1090/) as well as on a second Google word analogy dataset [Mikolov et al. 2013b](https://arxiv.org/abs/1301.3781v3). The evaluation metric is the percentage of questions for which the correct answer is assigned the maximum score by the algorithm. The analogy task is used to show whether a debiasing method is capable of preserving desired distance relations between words. The implementation was taken from Wang et al. (2020) with some adjustments to get it running: `analogy_tasks.py`"
   ]
  },
  {
   "cell_type": "code",
   "execution_count": 16,
   "metadata": {},
   "outputs": [],
   "source": [
    "import analogy_tasks as ana"
   ]
  },
  {
   "cell_type": "markdown",
   "metadata": {},
   "source": [
    "### MSR"
   ]
  },
  {
   "cell_type": "code",
   "execution_count": 19,
   "metadata": {},
   "outputs": [
    {
     "name": "stdout",
     "output_type": "stream",
     "text": [
      "4884\n",
      "ACCURACY TOP1-MSR: 54.40% (2657/4884)\n"
     ]
    }
   ],
   "source": [
    "# MSR on all embeddings:\n",
    "for key, (embedding, vocab, w2id) in dict_embeddings.items():\n",
    "    print(key, \": \")\n",
    "    ana.evaluate_analogy_msr(embedding, vocab, w2id)"
   ]
  },
  {
   "cell_type": "code",
   "execution_count": 20,
   "metadata": {},
   "outputs": [],
   "source": [
    "# ana.evaluate_analogy_msr(debiased_1, data.vocab, data.w2id)"
   ]
  },
  {
   "cell_type": "code",
   "execution_count": 21,
   "metadata": {},
   "outputs": [
    {
     "name": "stdout",
     "output_type": "stream",
     "text": [
      "capital-common-countries.txt:\n",
      "ACCURACY TOP1: 98.95% (283/286)\n",
      "capital-world.txt:\n",
      "ACCURACY TOP1: 94.69% (1409/1488)\n",
      "currency.txt:\n",
      "ACCURACY TOP1: 7.63% (18/236)\n",
      "city-in-state.txt:\n",
      "ACCURACY TOP1: 77.49% (1855/2394)\n",
      "family.txt:\n",
      "ACCURACY TOP1: 71.67% (301/420)\n",
      "gram1-adjective-to-adverb.txt:\n",
      "ACCURACY TOP1: 9.25% (86/930)\n",
      "gram2-opposite.txt:\n",
      "ACCURACY TOP1: 29.22% (135/462)\n",
      "gram3-comparative.txt:\n",
      "ACCURACY TOP1: 78.68% (1048/1332)\n",
      "gram4-superlative.txt:\n",
      "ACCURACY TOP1: 46.55% (378/812)\n",
      "gram5-present-participle.txt:\n",
      "ACCURACY TOP1: 47.42% (441/930)\n",
      "gram6-nationality-adjective.txt:\n",
      "ACCURACY TOP1: 93.23% (1418/1521)\n",
      "gram7-past-tense.txt:\n",
      "ACCURACY TOP1: 34.87% (544/1560)\n",
      "gram8-plural.txt:\n",
      "ACCURACY TOP1: 75.46% (898/1190)\n",
      "gram9-plural-verbs.txt:\n",
      "ACCURACY TOP1: 45.57% (370/812)\n",
      "Questions seen/total: 73.54% (14373/19544)\n",
      "Semantic accuracy: 80.14%  (3866/4824)\n",
      "Syntactic accuracy: 55.69%  (5318/9549)\n",
      "Total accuracy: 63.90%  (9184/14373)\n"
     ]
    }
   ],
   "source": [
    "ana.evaluate_analogy_google(data.embedding, data.vocab, data.w2id)"
   ]
  },
  {
   "cell_type": "code",
   "execution_count": 22,
   "metadata": {},
   "outputs": [],
   "source": [
    "# ana.evaluate_analogy_google(debiased_2, data.vocab, data.w2id)"
   ]
  },
  {
   "cell_type": "code",
   "execution_count": null,
   "metadata": {},
   "outputs": [],
   "source": []
  }
 ],
 "metadata": {
  "kernelspec": {
   "display_name": "Python 3",
   "language": "python",
   "name": "python3"
  },
  "language_info": {
   "codemirror_mode": {
    "name": "ipython",
    "version": 3
   },
   "file_extension": ".py",
   "mimetype": "text/x-python",
   "name": "python",
   "nbconvert_exporter": "python",
   "pygments_lexer": "ipython3",
   "version": "3.7.6"
  }
 },
 "nbformat": 4,
 "nbformat_minor": 4
}
